{
 "cells": [
  {
   "cell_type": "markdown",
   "metadata": {
    "slideshow": {
     "slide_type": "slide"
    }
   },
   "source": [
    "![DSB Logo](img/Dolan.jpg)\n",
    "# Data Structures and File I/O\n",
    "## RSI 9-12\n",
    "### Lists, Tuples, Strings, and Files"
   ]
  },
  {
   "cell_type": "markdown",
   "metadata": {
    "slideshow": {
     "slide_type": "slide"
    }
   },
   "source": [
    "# Learning Objectives\n",
    "\n",
    "## Theory / Be able to explain ...\n",
    "- Terminology like immutable, literal, sequences, slicing, comprehensions, etc. \n",
    "- The functional differences between lists, tuples, strings, and files\n",
    "- The implications of files as sequential, persistent data stores\n",
    "- The structure and use of absolute and relative file paths\n",
    "\n",
    "## Skills / Know how to  ...\n",
    "- Index and slice sequences\n",
    "- Convert from one data type to another\n",
    "- Select, open, read, write, and close files"
   ]
  },
  {
   "cell_type": "markdown",
   "metadata": {
    "slideshow": {
     "slide_type": "slide"
    }
   },
   "source": [
    "# Data Type vs Data Structure\n",
    "- A **Data Type** defines a set of **requirements**:\n",
    "  - Kinds of data to be encapsulated (contained)\n",
    "  - Operations to be supported (applicable)\n",
    "- A **Data Structure** is a particular **implementation** of a Data Type.\n",
    "- There is no practical difference (unless you happen to be building your own data structures). We will use the terms interchangeably in this course. "
   ]
  },
  {
   "cell_type": "markdown",
   "metadata": {
    "slideshow": {
     "slide_type": "slide"
    }
   },
   "source": [
    "# Lists (Data Type `list`)\n",
    "## For managing sequences of items"
   ]
  },
  {
   "cell_type": "markdown",
   "metadata": {
    "slideshow": {
     "slide_type": "slide"
    }
   },
   "source": [
    "# Lists should be passé by now\n",
    "- Can store sequences of values of any type\n",
    "- List items can have different (mixed) types\n",
    "- Indexed by integer locations (starting at [0])"
   ]
  },
  {
   "cell_type": "markdown",
   "metadata": {
    "slideshow": {
     "slide_type": "slide"
    }
   },
   "source": [
    "# Some new things to try ...\n",
    "- Slicing to index subsets of lists\n",
    "- Nesting lists inside other lists to simulate matrices (with [i][j] indexing)\n",
    "- Add, remove, replace items as needed\n",
    "- Concatenate lists with other lists\n",
    "- Test membership (search for) an item in a list"
   ]
  },
  {
   "cell_type": "markdown",
   "metadata": {
    "slideshow": {
     "slide_type": "slide"
    }
   },
   "source": [
    "# List Membership & Scanning\n",
    "We can test for whether a given value is found in a list:"
   ]
  },
  {
   "cell_type": "code",
   "execution_count": 7,
   "metadata": {
    "slideshow": {
     "slide_type": "fragment"
    }
   },
   "outputs": [
    {
     "data": {
      "text/plain": [
       "True"
      ]
     },
     "execution_count": 7,
     "metadata": {},
     "output_type": "execute_result"
    }
   ],
   "source": [
    "2 in [1,2,3,4] # Is 2 in the list?"
   ]
  },
  {
   "cell_type": "code",
   "execution_count": 8,
   "metadata": {
    "slideshow": {
     "slide_type": "fragment"
    }
   },
   "outputs": [
    {
     "data": {
      "text/plain": [
       "False"
      ]
     },
     "execution_count": 8,
     "metadata": {},
     "output_type": "execute_result"
    }
   ],
   "source": [
    "0 in [1,2,3,4]"
   ]
  },
  {
   "cell_type": "markdown",
   "metadata": {
    "slideshow": {
     "slide_type": "fragment"
    }
   },
   "source": [
    "We can even scan for a value’s first occurrence:"
   ]
  },
  {
   "cell_type": "code",
   "execution_count": 9,
   "metadata": {
    "slideshow": {
     "slide_type": "fragment"
    }
   },
   "outputs": [
    {
     "data": {
      "text/plain": [
       "2"
      ]
     },
     "execution_count": 9,
     "metadata": {},
     "output_type": "execute_result"
    }
   ],
   "source": [
    "[1,2,3,4].index(3) # In what position is 3?"
   ]
  },
  {
   "cell_type": "markdown",
   "metadata": {
    "slideshow": {
     "slide_type": "slide"
    }
   },
   "source": [
    "# List Slicing\n",
    "We can generate subsets of lists (or other sequences) using slicing\n",
    "```python \n",
    "alist[start_index : end_index]\n",
    "```\n",
    "- `start_index` can be blank to start at the beginning of the list\n",
    "- `end_index` is the index *just after* the slice you want\n",
    "   - use `-1` to indicate the last index on the list, `-2` the last two indexes, etc."
   ]
  },
  {
   "cell_type": "code",
   "execution_count": 81,
   "metadata": {
    "slideshow": {
     "slide_type": "subslide"
    }
   },
   "outputs": [
    {
     "data": {
      "text/plain": [
       "[1, 'two', 3.0, 4]"
      ]
     },
     "execution_count": 81,
     "metadata": {},
     "output_type": "execute_result"
    }
   ],
   "source": [
    "numbers = [1,\"two\",3.0,(1+1+1+1)]\n",
    "numbers"
   ]
  },
  {
   "cell_type": "code",
   "execution_count": 77,
   "metadata": {
    "slideshow": {
     "slide_type": "fragment"
    }
   },
   "outputs": [
    {
     "data": {
      "text/plain": [
       "['two']"
      ]
     },
     "execution_count": 77,
     "metadata": {},
     "output_type": "execute_result"
    }
   ],
   "source": [
    "numbers[1:2]"
   ]
  },
  {
   "cell_type": "code",
   "execution_count": 78,
   "metadata": {
    "slideshow": {
     "slide_type": "fragment"
    }
   },
   "outputs": [
    {
     "data": {
      "text/plain": [
       "[1, 'two']"
      ]
     },
     "execution_count": 78,
     "metadata": {},
     "output_type": "execute_result"
    }
   ],
   "source": [
    "numbers[:2]"
   ]
  },
  {
   "cell_type": "code",
   "execution_count": 79,
   "metadata": {
    "slideshow": {
     "slide_type": "fragment"
    }
   },
   "outputs": [
    {
     "data": {
      "text/plain": [
       "[1, 'two', 3.0]"
      ]
     },
     "execution_count": 79,
     "metadata": {},
     "output_type": "execute_result"
    }
   ],
   "source": [
    "numbers[:-1]"
   ]
  },
  {
   "cell_type": "code",
   "execution_count": 80,
   "metadata": {
    "slideshow": {
     "slide_type": "fragment"
    }
   },
   "outputs": [
    {
     "data": {
      "text/plain": [
       "[1, 'two']"
      ]
     },
     "execution_count": 80,
     "metadata": {},
     "output_type": "execute_result"
    }
   ],
   "source": [
    "numbers[:-2]"
   ]
  },
  {
   "cell_type": "markdown",
   "metadata": {
    "slideshow": {
     "slide_type": "slide"
    }
   },
   "source": [
    "# Nested Lists\n",
    "Try this yourself, one line at a time:\n",
    "```python\n",
    "bunch = [\"Mike\", \"Carol\", [\"Greg\",\"Marcia\", \"Peter\", \"Jan\", \"Bobby\", \"Cindy\"]]\n",
    "bunch[2]\n",
    "bunch[3]\n",
    "bunch[2][1]\n",
    "bunch[2][1][2]\n",
    "bunch[1]\n",
    "bunch[1][1]\n",
    "bunch[1][1][1]\n",
    "```"
   ]
  },
  {
   "cell_type": "code",
   "execution_count": 12,
   "metadata": {
    "slideshow": {
     "slide_type": "subslide"
    }
   },
   "outputs": [],
   "source": [
    "bunch = [\"Mike\", \"Carol\", [\"Greg\",\"Marcia\", \"Peter\", \"Jan\", \"Bobby\", \"Cindy\"]]"
   ]
  },
  {
   "cell_type": "code",
   "execution_count": 13,
   "metadata": {
    "slideshow": {
     "slide_type": "fragment"
    }
   },
   "outputs": [
    {
     "data": {
      "text/plain": [
       "['Greg', 'Marcia', 'Peter', 'Jan', 'Bobby', 'Cindy']"
      ]
     },
     "execution_count": 13,
     "metadata": {},
     "output_type": "execute_result"
    }
   ],
   "source": [
    "bunch[2]"
   ]
  },
  {
   "cell_type": "code",
   "execution_count": 14,
   "metadata": {
    "slideshow": {
     "slide_type": "fragment"
    }
   },
   "outputs": [
    {
     "ename": "IndexError",
     "evalue": "list index out of range",
     "output_type": "error",
     "traceback": [
      "\u001b[0;31m---------------------------------------------------------------------------\u001b[0m",
      "\u001b[0;31mIndexError\u001b[0m                                Traceback (most recent call last)",
      "\u001b[0;32m<ipython-input-14-2c8a33e857c6>\u001b[0m in \u001b[0;36m<module>\u001b[0;34m()\u001b[0m\n\u001b[0;32m----> 1\u001b[0;31m \u001b[0mbunch\u001b[0m\u001b[0;34m[\u001b[0m\u001b[0;36m3\u001b[0m\u001b[0;34m]\u001b[0m\u001b[0;34m\u001b[0m\u001b[0m\n\u001b[0m",
      "\u001b[0;31mIndexError\u001b[0m: list index out of range"
     ]
    }
   ],
   "source": [
    "bunch[3]"
   ]
  },
  {
   "cell_type": "code",
   "execution_count": 15,
   "metadata": {
    "slideshow": {
     "slide_type": "subslide"
    }
   },
   "outputs": [
    {
     "data": {
      "text/plain": [
       "'Marcia'"
      ]
     },
     "execution_count": 15,
     "metadata": {},
     "output_type": "execute_result"
    }
   ],
   "source": [
    "bunch[2][1]"
   ]
  },
  {
   "cell_type": "code",
   "execution_count": 16,
   "metadata": {
    "slideshow": {
     "slide_type": "fragment"
    }
   },
   "outputs": [
    {
     "data": {
      "text/plain": [
       "'r'"
      ]
     },
     "execution_count": 16,
     "metadata": {},
     "output_type": "execute_result"
    }
   ],
   "source": [
    "bunch[2][1][2]"
   ]
  },
  {
   "cell_type": "code",
   "execution_count": 17,
   "metadata": {
    "slideshow": {
     "slide_type": "fragment"
    }
   },
   "outputs": [
    {
     "data": {
      "text/plain": [
       "'Carol'"
      ]
     },
     "execution_count": 17,
     "metadata": {},
     "output_type": "execute_result"
    }
   ],
   "source": [
    "bunch[1]"
   ]
  },
  {
   "cell_type": "code",
   "execution_count": 18,
   "metadata": {
    "slideshow": {
     "slide_type": "fragment"
    }
   },
   "outputs": [
    {
     "data": {
      "text/plain": [
       "'a'"
      ]
     },
     "execution_count": 18,
     "metadata": {},
     "output_type": "execute_result"
    }
   ],
   "source": [
    "bunch[1][1]"
   ]
  },
  {
   "cell_type": "code",
   "execution_count": 19,
   "metadata": {
    "slideshow": {
     "slide_type": "fragment"
    }
   },
   "outputs": [
    {
     "ename": "IndexError",
     "evalue": "string index out of range",
     "output_type": "error",
     "traceback": [
      "\u001b[0;31m---------------------------------------------------------------------------\u001b[0m",
      "\u001b[0;31mIndexError\u001b[0m                                Traceback (most recent call last)",
      "\u001b[0;32m<ipython-input-19-b31211a60f29>\u001b[0m in \u001b[0;36m<module>\u001b[0;34m()\u001b[0m\n\u001b[0;32m----> 1\u001b[0;31m \u001b[0mbunch\u001b[0m\u001b[0;34m[\u001b[0m\u001b[0;36m1\u001b[0m\u001b[0;34m]\u001b[0m\u001b[0;34m[\u001b[0m\u001b[0;36m1\u001b[0m\u001b[0;34m]\u001b[0m\u001b[0;34m[\u001b[0m\u001b[0;36m1\u001b[0m\u001b[0;34m]\u001b[0m\u001b[0;34m\u001b[0m\u001b[0m\n\u001b[0m",
      "\u001b[0;31mIndexError\u001b[0m: string index out of range"
     ]
    }
   ],
   "source": [
    "bunch[1][1][1]"
   ]
  },
  {
   "cell_type": "markdown",
   "metadata": {
    "slideshow": {
     "slide_type": "slide"
    }
   },
   "source": [
    "# Add, Replace, Delete, Insert"
   ]
  },
  {
   "cell_type": "code",
   "execution_count": 20,
   "metadata": {
    "slideshow": {
     "slide_type": "fragment"
    }
   },
   "outputs": [
    {
     "data": {
      "text/plain": [
       "[212, 646, 347, 718, 917, 929]"
      ]
     },
     "execution_count": 20,
     "metadata": {},
     "output_type": "execute_result"
    }
   ],
   "source": [
    "# Add / Append\n",
    "area_codes =  [212,646] \n",
    "area_codes += [347, 718, 917, 929]\n",
    "area_codes"
   ]
  },
  {
   "cell_type": "code",
   "execution_count": 21,
   "metadata": {
    "slideshow": {
     "slide_type": "fragment"
    }
   },
   "outputs": [
    {
     "data": {
      "text/plain": [
       "[212, 646, 110, 718, 917, 929]"
      ]
     },
     "execution_count": 21,
     "metadata": {},
     "output_type": "execute_result"
    }
   ],
   "source": [
    "# Replace\n",
    "area_codes[2] = 110\n",
    "area_codes"
   ]
  },
  {
   "cell_type": "code",
   "execution_count": 22,
   "metadata": {
    "slideshow": {
     "slide_type": "fragment"
    }
   },
   "outputs": [
    {
     "data": {
      "text/plain": [
       "[212, 646, 718, 917, 929]"
      ]
     },
     "execution_count": 22,
     "metadata": {},
     "output_type": "execute_result"
    }
   ],
   "source": [
    "# Delete\n",
    "del area_codes[2]\n",
    "area_codes"
   ]
  },
  {
   "cell_type": "code",
   "execution_count": 23,
   "metadata": {
    "slideshow": {
     "slide_type": "fragment"
    }
   },
   "outputs": [
    {
     "data": {
      "text/plain": [
       "[212, 646, 347, 718, 917, 929]"
      ]
     },
     "execution_count": 23,
     "metadata": {},
     "output_type": "execute_result"
    }
   ],
   "source": [
    "# Insert\n",
    "area_codes[2:2] = [347]\n",
    "area_codes"
   ]
  },
  {
   "cell_type": "markdown",
   "metadata": {
    "slideshow": {
     "slide_type": "slide"
    }
   },
   "source": [
    "# Accumulator Pattern (again)\n",
    "- Problem: Need to **mark progress** (remember things) as we **traverse a list.**\n",
    "- Solution: Update an accumulator variable each time we access a list item. **Use the += assignment operator.**"
   ]
  },
  {
   "cell_type": "code",
   "execution_count": 25,
   "metadata": {
    "slideshow": {
     "slide_type": "fragment"
    }
   },
   "outputs": [
    {
     "name": "stdout",
     "output_type": "stream",
     "text": [
      "9 [2, 5, 2]\n"
     ]
    }
   ],
   "source": [
    "sum=0    # numerical accumulator variable\n",
    "cpy=[]   # list accumulator variable\n",
    "\n",
    "for v in [2, 5, 2]:\n",
    "    sum += v    # same as sum = sum + v\n",
    "    cpy += [v]  # same as cpy = cpy + [v]\n",
    "print(sum,cpy)"
   ]
  },
  {
   "cell_type": "markdown",
   "metadata": {
    "slideshow": {
     "slide_type": "slide"
    }
   },
   "source": [
    "# List Creation from Other Sequences\n",
    "We can create a copy of any sequence with the `list()` conversion function (like `int()`, `float()`, `str()`)"
   ]
  },
  {
   "cell_type": "code",
   "execution_count": 42,
   "metadata": {
    "slideshow": {
     "slide_type": "fragment"
    }
   },
   "outputs": [
    {
     "data": {
      "text/plain": [
       "[1, 2, 3]"
      ]
     },
     "execution_count": 42,
     "metadata": {},
     "output_type": "execute_result"
    }
   ],
   "source": [
    "list( (1,2,3)) # from a tuple (more in a few minutes)"
   ]
  },
  {
   "cell_type": "code",
   "execution_count": 48,
   "metadata": {
    "slideshow": {
     "slide_type": "fragment"
    }
   },
   "outputs": [
    {
     "data": {
      "text/plain": [
       "['a', 'b', 'c', 'd']"
      ]
     },
     "execution_count": 48,
     "metadata": {},
     "output_type": "execute_result"
    }
   ],
   "source": [
    "list(\"abcd\")   # from a string (more in a few minutes)"
   ]
  },
  {
   "cell_type": "code",
   "execution_count": 49,
   "metadata": {
    "slideshow": {
     "slide_type": "fragment"
    }
   },
   "outputs": [
    {
     "data": {
      "text/plain": [
       "[0, 1, 2, 3]"
      ]
     },
     "execution_count": 49,
     "metadata": {},
     "output_type": "execute_result"
    }
   ],
   "source": [
    "list(range(4)) # from a range generator function"
   ]
  },
  {
   "cell_type": "markdown",
   "metadata": {
    "slideshow": {
     "slide_type": "slide"
    }
   },
   "source": [
    "# List Comprehensions\n",
    "- A **comprehension** is a custom sequence built item by item from another sequence.\n",
    "- The most common form is a **list comprehension**\n",
    "```python\n",
    "[ < output exp > for < item > in < orig seq > if < boolean exp > ]\n",
    "# Note that keywords for/in/if are used to separate the clauses\n",
    "```\n",
    "- Example \n",
    "```python\n",
    "[i for i in range(1,x+1) if int(x/i)==x/i]\n",
    "```\n",
    "- Step-by-step\n",
    "    1. The for loop iterates item-by-item over the original sequence\n",
    "    2. If the boolean expression is true for the current item then generate the output item\n",
    "    3. Append the output item to the new list"
   ]
  },
  {
   "cell_type": "code",
   "execution_count": 31,
   "metadata": {
    "slideshow": {
     "slide_type": "subslide"
    }
   },
   "outputs": [
    {
     "name": "stdout",
     "output_type": "stream",
     "text": [
      "[1, 2, 4, 5, 10, 20, 25, 50, 100]\n",
      "[1, 2, 4, 5, 10, 20, 25, 50, 100]\n"
     ]
    }
   ],
   "source": [
    "x=100\n",
    "# Use an accumulator to build a list of factors\n",
    "factors=[]                 # initialize an empty factors list\n",
    "for i in range(1,x+1):\n",
    "  if int(x/i)==x/i:        # test for divisibility (no remainder)\n",
    "    factors += [i]         # add to factors list \n",
    "print(factors)\n",
    "\n",
    "# Now do it with a list comprehension\n",
    "factors=[i for i in range(1,x+1) if int(x/i)==x/i]\n",
    "print(factors)"
   ]
  },
  {
   "cell_type": "markdown",
   "metadata": {
    "slideshow": {
     "slide_type": "slide"
    }
   },
   "source": [
    "# Append vs Concatenate\n",
    "- Appending `list2` to `list1` **modifies** `list1`\n",
    "- Concatenating `list2` to `list1` **creates a new list**"
   ]
  },
  {
   "cell_type": "code",
   "execution_count": 38,
   "metadata": {
    "slideshow": {
     "slide_type": "subslide"
    }
   },
   "outputs": [],
   "source": [
    "# create two lists \n",
    "list1 = [212,646]\n",
    "list2 = [347,718,917,929]"
   ]
  },
  {
   "cell_type": "code",
   "execution_count": 39,
   "metadata": {
    "slideshow": {
     "slide_type": "fragment"
    }
   },
   "outputs": [
    {
     "data": {
      "text/plain": [
       "[212, 646, 347, 718, 917, 929]"
      ]
     },
     "execution_count": 39,
     "metadata": {},
     "output_type": "execute_result"
    }
   ],
   "source": [
    "list1 + list2 # Concatenate list2 to list1"
   ]
  },
  {
   "cell_type": "code",
   "execution_count": 40,
   "metadata": {
    "slideshow": {
     "slide_type": "fragment"
    }
   },
   "outputs": [
    {
     "data": {
      "text/plain": [
       "[212, 646]"
      ]
     },
     "execution_count": 40,
     "metadata": {},
     "output_type": "execute_result"
    }
   ],
   "source": [
    "list1 # unchanged"
   ]
  },
  {
   "cell_type": "code",
   "execution_count": 41,
   "metadata": {
    "slideshow": {
     "slide_type": "fragment"
    }
   },
   "outputs": [
    {
     "data": {
      "text/plain": [
       "[212, 646, 347, 718, 917, 929]"
      ]
     },
     "execution_count": 41,
     "metadata": {},
     "output_type": "execute_result"
    }
   ],
   "source": [
    "list1 += list2 # Append list2 to list1\n",
    "list1 # changed"
   ]
  },
  {
   "cell_type": "markdown",
   "metadata": {
    "slideshow": {
     "slide_type": "slide"
    }
   },
   "source": [
    "# Tuples (Data Type `tuple`)\n",
    "## Like lists but immutable"
   ]
  },
  {
   "cell_type": "markdown",
   "metadata": {
    "slideshow": {
     "slide_type": "slide"
    }
   },
   "source": [
    "# What's a Tuple?\n",
    "A tuple is a **fixed** (literal) sequence of items enclosed with parentheses (instead of square brackets).\n",
    "- [1,2,3] is a list\n",
    "- (1,2,3) is a tuple\n",
    "\n",
    "You've already seen them in math class:\n",
    "- (1,2) is an ordered pair (tuple)\n",
    "- (1,2,3) is an ordered triplet (tuple)\n",
    "- (1,2,3,4) is an ordered quartet (tuple)\n",
    "- Higher dimensions (n > 4) are **n-tuples**.  \n",
    "\n",
    "Tuples work just like lists except they are **immutable**: their contents cannot be modified in any way after creation. "
   ]
  },
  {
   "cell_type": "markdown",
   "metadata": {
    "slideshow": {
     "slide_type": "slide"
    }
   },
   "source": [
    "# Tuple Examples"
   ]
  },
  {
   "cell_type": "code",
   "execution_count": 66,
   "metadata": {
    "slideshow": {
     "slide_type": "fragment"
    }
   },
   "outputs": [
    {
     "name": "stdout",
     "output_type": "stream",
     "text": [
      "<class 'tuple'> (1, 2, 3)\n"
     ]
    }
   ],
   "source": [
    "x = (1,2,3)\n",
    "print(type(x), x)"
   ]
  },
  {
   "cell_type": "code",
   "execution_count": 67,
   "metadata": {
    "slideshow": {
     "slide_type": "fragment"
    }
   },
   "outputs": [
    {
     "name": "stdout",
     "output_type": "stream",
     "text": [
      "<class 'list'> [1, 2, 3]\n"
     ]
    }
   ],
   "source": [
    "y = [1,2,3]\n",
    "print(type(y), y)"
   ]
  },
  {
   "cell_type": "code",
   "execution_count": 59,
   "metadata": {
    "slideshow": {
     "slide_type": "fragment"
    }
   },
   "outputs": [
    {
     "name": "stdout",
     "output_type": "stream",
     "text": [
      "<class 'tuple'> (1, 2, 3)\n"
     ]
    }
   ],
   "source": [
    "z = tuple(y)\n",
    "print(type(z),z)"
   ]
  },
  {
   "cell_type": "code",
   "execution_count": 60,
   "metadata": {
    "slideshow": {
     "slide_type": "subslide"
    }
   },
   "outputs": [
    {
     "data": {
      "text/plain": [
       "(1, 2, 3, 4, 5)"
      ]
     },
     "execution_count": 60,
     "metadata": {},
     "output_type": "execute_result"
    }
   ],
   "source": [
    "(1,2,3) + (4,5) # Concatenate tuples"
   ]
  },
  {
   "cell_type": "code",
   "execution_count": 61,
   "metadata": {
    "slideshow": {
     "slide_type": "fragment"
    }
   },
   "outputs": [
    {
     "ename": "SyntaxError",
     "evalue": "can't assign to literal (<ipython-input-61-399caa64b569>, line 1)",
     "output_type": "error",
     "traceback": [
      "\u001b[0;36m  File \u001b[0;32m\"<ipython-input-61-399caa64b569>\"\u001b[0;36m, line \u001b[0;32m1\u001b[0m\n\u001b[0;31m    (1,2,3) += (4,5) # Append tuples\u001b[0m\n\u001b[0m                                    ^\u001b[0m\n\u001b[0;31mSyntaxError\u001b[0m\u001b[0;31m:\u001b[0m can't assign to literal\n"
     ]
    }
   ],
   "source": [
    "(1,2,3) += (4,5) # Append tuples"
   ]
  },
  {
   "cell_type": "code",
   "execution_count": 65,
   "metadata": {
    "slideshow": {
     "slide_type": "fragment"
    }
   },
   "outputs": [
    {
     "data": {
      "text/plain": [
       "(1, 2)"
      ]
     },
     "execution_count": 65,
     "metadata": {},
     "output_type": "execute_result"
    }
   ],
   "source": [
    "(1,2,3)[:-1] # Slicing works fine"
   ]
  },
  {
   "cell_type": "code",
   "execution_count": 70,
   "metadata": {
    "slideshow": {
     "slide_type": "fragment"
    }
   },
   "outputs": [
    {
     "data": {
      "text/plain": [
       "<generator object <genexpr> at 0x110f62200>"
      ]
     },
     "execution_count": 70,
     "metadata": {},
     "output_type": "execute_result"
    }
   ],
   "source": [
    "( i*(i-1)/2 for i in range(10) ) # Comprehensions don't though"
   ]
  },
  {
   "cell_type": "markdown",
   "metadata": {
    "slideshow": {
     "slide_type": "slide"
    }
   },
   "source": [
    "# Aside: We've seen Tuple-like lists before\n",
    "Go back and look at function definitions again:\n",
    "```python\n",
    "def add_two_numbers(a,b)\n",
    "    return a+b\n",
    "```\n",
    "The parameter definitions are actually tuple-like:\n",
    "- Syntax is the same, with enclosing parentheses\n",
    "- Parameters can't be added/deleted after the function is defined\n",
    "- Caveat: functions calls can have variable numbers of **arguments** when called using some tricks that are beyond scope here."
   ]
  },
  {
   "cell_type": "markdown",
   "metadata": {
    "slideshow": {
     "slide_type": "slide"
    }
   },
   "source": [
    "# Strings (Data Type `str`)\n",
    "## A tuple-savvy look into the most fundamental sequence data type"
   ]
  },
  {
   "cell_type": "markdown",
   "metadata": {
    "slideshow": {
     "slide_type": "slide"
    }
   },
   "source": [
    "# String Literals\n",
    "String values are said to be literals (like tuples). When displayed in the interpreter they are always shown with quotes:"
   ]
  },
  {
   "cell_type": "code",
   "execution_count": 3,
   "metadata": {
    "slideshow": {
     "slide_type": "fragment"
    }
   },
   "outputs": [
    {
     "data": {
      "text/plain": [
       "'ABC'"
      ]
     },
     "execution_count": 3,
     "metadata": {},
     "output_type": "execute_result"
    }
   ],
   "source": [
    "\"ABC\""
   ]
  },
  {
   "cell_type": "markdown",
   "metadata": {
    "slideshow": {
     "slide_type": "fragment"
    }
   },
   "source": [
    "Three kinds of string literals:\n",
    "- Single quoted literals are like\n",
    "```python\n",
    "'ABC'\n",
    "```\n",
    "- Double quoted literals are like \n",
    "```python\n",
    "\"I can say 'ABC'\"\n",
    "```\n",
    "- Triple quoted literals \n",
    "```python \n",
    "'''can span  \n",
    "multiple lines.'''\n",
    "```\n"
   ]
  },
  {
   "cell_type": "markdown",
   "metadata": {
    "slideshow": {
     "slide_type": "slide"
    }
   },
   "source": [
    "# Strings as Tuples with Added Syntactic Sugar\n",
    "- Any operation you can do with a tuple you can do with a string\n",
    "- There are some extra things strings can do as well, but they are still fundamentally just tuples of characters."
   ]
  },
  {
   "cell_type": "code",
   "execution_count": 72,
   "metadata": {
    "slideshow": {
     "slide_type": "fragment"
    }
   },
   "outputs": [
    {
     "data": {
      "text/plain": [
       "('A', 'B', 'C')"
      ]
     },
     "execution_count": 72,
     "metadata": {},
     "output_type": "execute_result"
    }
   ],
   "source": [
    "tuple(\"ABC\")"
   ]
  },
  {
   "cell_type": "code",
   "execution_count": 73,
   "metadata": {
    "slideshow": {
     "slide_type": "fragment"
    }
   },
   "outputs": [
    {
     "data": {
      "text/plain": [
       "'B'"
      ]
     },
     "execution_count": 73,
     "metadata": {},
     "output_type": "execute_result"
    }
   ],
   "source": [
    "\"ABC\"[1]"
   ]
  },
  {
   "cell_type": "code",
   "execution_count": 75,
   "metadata": {
    "slideshow": {
     "slide_type": "fragment"
    }
   },
   "outputs": [
    {
     "data": {
      "text/plain": [
       "'ABCDE'"
      ]
     },
     "execution_count": 75,
     "metadata": {},
     "output_type": "execute_result"
    }
   ],
   "source": [
    "\"ABC\" + \"DE\""
   ]
  },
  {
   "cell_type": "code",
   "execution_count": 74,
   "metadata": {
    "slideshow": {
     "slide_type": "fragment"
    }
   },
   "outputs": [
    {
     "ename": "SyntaxError",
     "evalue": "can't assign to literal (<ipython-input-74-1dc1d4028867>, line 1)",
     "output_type": "error",
     "traceback": [
      "\u001b[0;36m  File \u001b[0;32m\"<ipython-input-74-1dc1d4028867>\"\u001b[0;36m, line \u001b[0;32m1\u001b[0m\n\u001b[0;31m    \"ABC\" += \"DE\"\u001b[0m\n\u001b[0m                 ^\u001b[0m\n\u001b[0;31mSyntaxError\u001b[0m\u001b[0;31m:\u001b[0m can't assign to literal\n"
     ]
    }
   ],
   "source": [
    "\"ABC\" += \"DE\""
   ]
  },
  {
   "cell_type": "markdown",
   "metadata": {
    "slideshow": {
     "slide_type": "slide"
    }
   },
   "source": [
    "# String Methods\n",
    "Strings get all of the tuple methods for free. However, they also come with lots of additional built-in methods. ([RTFM](https://docs.python.org/3/library/stdtypes.html#string-methods).)\n",
    "- `upper()`, `lower()`, `capitalize()`\n",
    "- `strip()`, `lstrip()`, `rstrip()`\n",
    "- `center()`, `ljust()`, `rjust()`\n",
    "- `count()`,`find()`, `rfind()`, \n",
    "- `index()`, `rindex()`,`replace()`, `format()`\n",
    "\n",
    "Once again: Strings are no more editable than tuples. upper(), strip(), etc. just return *new strings*.\n",
    "\n"
   ]
  },
  {
   "cell_type": "markdown",
   "metadata": {
    "slideshow": {
     "slide_type": "slide"
    }
   },
   "source": [
    "# String Comparisons\n",
    "Many of the relational comparisons that apply to numbers also apply to strings using **lexicographic ordering.**"
   ]
  },
  {
   "cell_type": "code",
   "execution_count": 82,
   "metadata": {
    "slideshow": {
     "slide_type": "fragment"
    }
   },
   "outputs": [
    {
     "data": {
      "text/plain": [
       "False"
      ]
     },
     "execution_count": 82,
     "metadata": {},
     "output_type": "execute_result"
    }
   ],
   "source": [
    "\"XYZ\" == \"ABC\""
   ]
  },
  {
   "cell_type": "code",
   "execution_count": 83,
   "metadata": {
    "slideshow": {
     "slide_type": "fragment"
    }
   },
   "outputs": [
    {
     "data": {
      "text/plain": [
       "True"
      ]
     },
     "execution_count": 83,
     "metadata": {},
     "output_type": "execute_result"
    }
   ],
   "source": [
    "\"ABC\" < \"XYZ\""
   ]
  },
  {
   "cell_type": "code",
   "execution_count": 85,
   "metadata": {
    "slideshow": {
     "slide_type": "fragment"
    }
   },
   "outputs": [
    {
     "data": {
      "text/plain": [
       "False"
      ]
     },
     "execution_count": 85,
     "metadata": {},
     "output_type": "execute_result"
    }
   ],
   "source": [
    "\"XYZ\" < \"ABC\""
   ]
  },
  {
   "cell_type": "markdown",
   "metadata": {
    "slideshow": {
     "slide_type": "slide"
    }
   },
   "source": [
    "# String Traversal with `for` Loops\n",
    "This works exactly like a tuple, list, or any other sequence:\n",
    "```python\n",
    "s = \"ABC\"\n",
    "for c in s:    # use s like a tuple or list\n",
    "    print(c)\n",
    "    for i in range(len(s)): \n",
    "        print(s[i])\n",
    "```\n",
    "This should be no surprise since strings are just a special kind of sequence.\n"
   ]
  },
  {
   "cell_type": "markdown",
   "metadata": {
    "slideshow": {
     "slide_type": "slide"
    }
   },
   "source": [
    "# String Traversal with `while` Loops\n",
    "`while` loops work just like before.\n",
    "```python\n",
    "s = \"ABC\"\n",
    "i = 0\n",
    "while i < len(s):\n",
    "    print(i,s[i])\n",
    "    i += 1\n",
    "```\n",
    "We can, of course, do lots more inside the loop body. This is just an example."
   ]
  },
  {
   "cell_type": "markdown",
   "metadata": {
    "slideshow": {
     "slide_type": "slide"
    }
   },
   "source": [
    "# Digression on `in` (and `not in`)\n",
    "We have already seen `in` used in `for` loops\n",
    "```python\n",
    "for c in s:\n",
    "    print(c)\n",
    "```\n",
    "Technically, the `c in s` part of the `for` loop header is actually a boolean expression that can be used to test if the value of variable `c` is inside the sequence `s`.    \n",
    "\n",
    "It works fine with literals as well:\n",
    "```python\n",
    "\"B\" in \"ABCD\"     # True\n",
    "\"B\" not in \"ABCD\" # False\n",
    "1 in [2,1,3]      # True\n",
    "```"
   ]
  },
  {
   "cell_type": "markdown",
   "metadata": {
    "slideshow": {
     "slide_type": "slide"
    }
   },
   "source": [
    "# File Systems\n",
    "## For making data persistent"
   ]
  },
  {
   "cell_type": "markdown",
   "metadata": {
    "slideshow": {
     "slide_type": "slide"
    }
   },
   "source": [
    "# Persistent State\n",
    "- Data is persistent if its state (value) outlives the process that created it.\n",
    "  - If you restart the Python interpreter (or your computer), all data in memory is lost but any data in storage persists.\n",
    "- Persistent data generally resides within **files**.\n",
    "  - Even if your data is managed by a relational database or online in the cloud, it ultimately will reside in one or more files.  "
   ]
  },
  {
   "cell_type": "markdown",
   "metadata": {
    "slideshow": {
     "slide_type": "slide"
    }
   },
   "source": [
    "# File Hierarchy and Paths\n",
    "- When opening a file we have to tell Python where to look for it in storage. \n",
    "- Files in storage are **logically organized** into a hierarchy (tree) of folders and files.\n",
    "- A **file path** gives directions for navigating the tree to a folder or file. The path from the root of the tree to a specific file is called the **absolute path**.\n",
    "![File Tree](img/L4_File_Tree.png)"
   ]
  },
  {
   "cell_type": "markdown",
   "metadata": {
    "slideshow": {
     "slide_type": "slide"
    }
   },
   "source": [
    "# Relative Paths\n",
    "A relative path navigates to the file from where your Python program resides. \n",
    "- `data1.txt`  \n",
    "- `../MyData/data2.txt`  \n",
    "- `../../otherFiles/ExtraData/data4.txt`  \n",
    "\n",
    "Each segment of the path is an instruction:\n",
    "- **Go down into a subfolder:**  \n",
    "    `<subfolder name>/`\n",
    "- **Go up a level of the tree:**  \n",
    "    `../` \n",
    "- **Go to a file in the current folder:**  \n",
    "    `<file name>`  \n",
    "\n",
    "Try it: For each path at the top of the slide, say exactly what navigation directions are being given."
   ]
  },
  {
   "cell_type": "markdown",
   "metadata": {
    "slideshow": {
     "slide_type": "slide"
    }
   },
   "source": [
    "# Caveat about Windows\n",
    "Due to a [poor design decision by IBM](https://www.howtogeek.com/181774/why-windows-uses-backslashes-and-everything-else-uses-forward-slashes) in the early 1980s, Windows uses `\\` (backslash) instead of `/` (slash) in its file paths.  \n",
    "\n",
    "In modern versions of Windows, slash and backslash can be used fairly interchangeably. However, there are bugs ... \n",
    "\n",
    "Fortunately, Python's `os` and `os.path` libraries provide utilities for using OS-independent (canonical) paths in your code. "
   ]
  },
  {
   "cell_type": "markdown",
   "metadata": {
    "slideshow": {
     "slide_type": "slide"
    }
   },
   "source": [
    "# An example in a JupyterLab Terminal\n",
    "\n",
    "## In JupyterLab launch a new Terminal tab.  \n",
    "![New Terminal - half](img/L4_New_Terminal.png)\n",
    "\n",
    "- What you see in your terminal session will be different due to operating system differences. \n",
    "- This demo is in MacOS X, which is really a fancy GUI on top of BSD Unix.\n",
    "- MS Windows, notably, does not follow Unix (POSIX) standards. You can install \"Git Bash\" to make it work more like a proper Unix terminal. "
   ]
  },
  {
   "cell_type": "markdown",
   "metadata": {
    "slideshow": {
     "slide_type": "subslide"
    }
   },
   "source": [
    "## Check to see where we are on the disk.\n",
    "![New Terminal - half](img/L4_Bash1.png)   \n",
    "\n",
    "- `bash-2.3`\\$ is a prompt from the Bash 'shell'. Bash is yet another language (complete with variables, loops, conditionals, etc.) that is commonly used for terminal sessions on Unix systems.   \n",
    "- We are always in a folder somewhere on the drive. Bash keeps track of our present location.\n",
    "- `pwd` is a bash command to display the **present working directory**."
   ]
  },
  {
   "cell_type": "markdown",
   "metadata": {
    "slideshow": {
     "slide_type": "subslide"
    }
   },
   "source": [
    "## See what files are in the present folder.\n",
    "![ls command](img/L4_Bash2.png) \n",
    "\n",
    "- `ls` displays a listing of files in the current folder. "
   ]
  },
  {
   "cell_type": "markdown",
   "metadata": {
    "slideshow": {
     "slide_type": "subslide"
    }
   },
   "source": [
    "## See what's inside the HealthStatsProject folder.\n",
    "![ls command with path](img/L4_Bash3.png)\n",
    "- We can pass a path argument to `ls` to see things in other folders. In this case the path is a subfolder of the current folder.  \n",
    "- The current folder's path is `.` (dot) (or if you prefer, `./`). If no path is supplied then `ls` assumes you meant `./`. "
   ]
  },
  {
   "cell_type": "markdown",
   "metadata": {
    "slideshow": {
     "slide_type": "subslide"
    }
   },
   "source": [
    "## Go down into the HealthStatsProject folder.\n",
    "![cd into subfolder](img/L4_Bash4.png)  \n",
    "- To change folders we use the `cd` (change directory) command, again supplying a path.\n",
    "- `cd` without a path argument returns us to the user's home folder. "
   ]
  },
  {
   "cell_type": "markdown",
   "metadata": {
    "slideshow": {
     "slide_type": "subslide"
    }
   },
   "source": [
    "## Take a peek back to the parent folder\n",
    "![ls of parent folder](img/L4_Bash5.png)  \n",
    "- The parent folder's path is `..` (dot-dot).\n",
    "- We can go up two levels by chaining the dots: `../../`"
   ]
  },
  {
   "cell_type": "markdown",
   "metadata": {
    "slideshow": {
     "slide_type": "slide"
    }
   },
   "source": [
    "# Opening and Closing Files\n",
    "- The `open()` function returns a Python object that we can use to read or write data from/to a file. \n",
    "- The `close()` method closes it when we are done.  \n",
    "   \n",
    "   \n",
    "\n",
    "```python\n",
    "f_in=open(<filepath>,\"r\") # open for reading\n",
    "    # read data \n",
    "f_in.close() # close the file when done reading \n",
    "```\n",
    "\n",
    "```python\n",
    "f_out=open(<filepath>,\"w\") # open for writing\n",
    "    # write data \n",
    "f_out.close() # close the file when done writing\n",
    "```\n"
   ]
  },
  {
   "cell_type": "markdown",
   "metadata": {
    "slideshow": {
     "slide_type": "fragment"
    }
   },
   "source": [
    "## Bug alert!\n",
    "To avoid data corruption, never open a file for reading and writing at the same."
   ]
  },
  {
   "cell_type": "markdown",
   "metadata": {
    "slideshow": {
     "slide_type": "slide"
    }
   },
   "source": [
    "# Reading Lines from a Text File\n",
    "- All at once as a list of strings (one string per line):\n",
    "```python \n",
    "lines = list(f)\n",
    "```\n",
    "- Using a `for` loop:\n",
    "```python\n",
    "for current_line in f:\n",
    "    # do something with current_line\n",
    "```\n",
    "- Using `readline()` or `readlines()`:\n",
    "```python\n",
    "readline()   # read the next line\n",
    "readlines(n) # read up to the next n lines\n",
    "```"
   ]
  },
  {
   "cell_type": "markdown",
   "metadata": {
    "slideshow": {
     "slide_type": "slide"
    }
   },
   "source": [
    "# Handling Delimited Lines\n",
    "Each line of the file is a string. Typically, a data file will use a delimiter character like a tab, space, or comma to divide each line (string) into **fields**:\n",
    "- ID,Waist,Hip,Gender\n",
    "- 1,32,40,M  \n",
    "\n",
    "We use the string `split()` method to generate a list of strings (one per field) for each line.\n",
    "```python\n",
    "fields = line.split(',')\n",
    "```\n",
    "The string for the last field on a line will have a **newline** character (or two!) at the end. You'll need to strip that out yourself. ([RTFM](https://www.google.com/search?q=python+newline+windows&oq=python+newline+windows).)"
   ]
  },
  {
   "cell_type": "markdown",
   "metadata": {
    "slideshow": {
     "slide_type": "slide"
    }
   },
   "source": [
    "# Writing Text Files\n",
    "Writing to a text file is similar to reading from one, except that you have to explicitly write a newline character `\\n` at the end of each line.\n",
    "```python\n",
    "f=open(\"myfile.txt\",\"w\")\n",
    "f.write(\"a line of text\\n\")\n",
    "f.close()\n",
    "```\n",
    "## Bug Alert!\n",
    "Always, always, **close the file** when you are done writing. File systems write data in chunks instead of one character at a time. Closing the file forces Python to write the last chunk."
   ]
  },
  {
   "cell_type": "markdown",
   "metadata": {
    "slideshow": {
     "slide_type": "slide"
    }
   },
   "source": [
    "# `with` Statements\n",
    "To avoid ever forgetting to close a file, use a `with` statement:\n",
    "```python\n",
    "with open(<filepath>) as <file alias>:\n",
    "    # do something with the file\n",
    "```\n",
    "For example ...\n",
    "```python\n",
    "with open(\"myfile.txt\") as f:\n",
    "    f.readline() # read the first line\n",
    "```\n",
    "Python automatically calls `close()` for us at the end of the `with` statement body."
   ]
  },
  {
   "cell_type": "markdown",
   "metadata": {
    "slideshow": {
     "slide_type": "slide"
    }
   },
   "source": [
    "# Classwork (Start here in class)\n",
    "- RSI Chapter 11 (Files)\n",
    "- Health Stats Part 2\n",
    "- If time permits, start in on your homework. \n",
    "\n",
    "# Homework (Do at home)\n",
    "The following is due before class next week:\n",
    "  - Any remaining classwork from tonight\n",
    "  - Study for Quiz 2\n",
    "\n",
    "Please email chuntley@fairfield.edu if you have any problems or questions."
   ]
  },
  {
   "cell_type": "code",
   "execution_count": null,
   "metadata": {},
   "outputs": [],
   "source": []
  }
 ],
 "metadata": {
  "kernelspec": {
   "display_name": "Python 3",
   "language": "python",
   "name": "python3"
  },
  "language_info": {
   "codemirror_mode": {
    "name": "ipython",
    "version": 3
   },
   "file_extension": ".py",
   "mimetype": "text/x-python",
   "name": "python",
   "nbconvert_exporter": "python",
   "pygments_lexer": "ipython3",
   "version": "3.6.6"
  }
 },
 "nbformat": 4,
 "nbformat_minor": 2
}
