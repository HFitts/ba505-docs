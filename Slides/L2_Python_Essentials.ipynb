{
 "cells": [
  {
   "cell_type": "markdown",
   "metadata": {
    "slideshow": {
     "slide_type": "slide"
    }
   },
   "source": [
    "![DSB Logo](img/Dolan.jpg)\n",
    "# Python Language Essentials\n",
    "\n",
    "## RSI Chapters 2, 3, 4\n",
    "### Statements, Expressions, Variables, Values, Functions, and Operators"
   ]
  },
  {
   "cell_type": "markdown",
   "metadata": {
    "slideshow": {
     "slide_type": "slide"
    }
   },
   "source": [
    "# Learning Objectives\n",
    "\n",
    "## Theory / Be able to explain ...\n",
    "- Basic Python syntax and structure, including statements, variables, expressions, operators, and functions\n",
    "- How variables and functions allow us to use and reuse data and processing\n",
    "- The debugging process and common types of bugs\n",
    "- How Python lists and loops work\n",
    "\n",
    "## Skills / Know how to  ...\n",
    "- Determine the type of a data value\n",
    "- Use variables to store, retrieve, and update values\n",
    "- Convert from one data type to another\n",
    "- Evaluate basic arithmetic and string expressions\n",
    "- Use a `for` loop to iterate over a list of values  \n",
    "\n"
   ]
  },
  {
   "cell_type": "markdown",
   "metadata": {
    "slideshow": {
     "slide_type": "slide"
    }
   },
   "source": [
    "# Python Language Basics\n",
    "\n",
    "## Statements, Expressions, Variables, Values, Functions, and Operators"
   ]
  },
  {
   "cell_type": "markdown",
   "metadata": {
    "slideshow": {
     "slide_type": "slide"
    }
   },
   "source": [
    "# Values and Data Types\n",
    "Every piece of data in Python has a **value** and a **data type**:"
   ]
  },
  {
   "cell_type": "markdown",
   "metadata": {
    "slideshow": {
     "slide_type": "fragment"
    }
   },
   "source": [
    "- 5 is a value with the data type int (integer)"
   ]
  },
  {
   "cell_type": "markdown",
   "metadata": {
    "slideshow": {
     "slide_type": "fragment"
    }
   },
   "source": [
    "- 5.0 is a value of type float (floating point number)"
   ]
  },
  {
   "cell_type": "markdown",
   "metadata": {
    "slideshow": {
     "slide_type": "fragment"
    }
   },
   "source": [
    "- ‘Hello’ is a value of type str (string of characters)"
   ]
  },
  {
   "cell_type": "markdown",
   "metadata": {
    "slideshow": {
     "slide_type": "fragment"
    }
   },
   "source": [
    "- [‘IS505’,2017] is a list (of values)"
   ]
  },
  {
   "cell_type": "markdown",
   "metadata": {
    "slideshow": {
     "slide_type": "slide"
    }
   },
   "source": [
    "# Try It Out!\n",
    "1. In JupyterLab open up an iPython Console. (Like we did a few minutes ago!)  \n",
    "2. Type the following Python Statements. (Reminder: Control+Enter)\n",
    "  - ```type(5)```\n",
    "  - ```type(5.0)```\n",
    "  - ```type('5.0')```\n",
    "  - ```type(\"Hello\")```\n",
    "  - ```type(['IS505',2017])```\n",
    "3. For each you will get something like `<class ... >` that tells you the data type."
   ]
  },
  {
   "cell_type": "markdown",
   "metadata": {
    "slideshow": {
     "slide_type": "fragment"
    }
   },
   "source": [
    "Notice anything about ```'5.0'```? Explain. "
   ]
  },
  {
   "cell_type": "markdown",
   "metadata": {
    "slideshow": {
     "slide_type": "slide"
    }
   },
   "source": [
    "# Data Types Matter (a lot)\n",
    "The data types of our values determine what kinds of things we can do with them.\n",
    "Explain each of the following results:\n",
    "- `'A'+'B'`  \t→ `'AB'`\n",
    "- `1+2` \t\t\t→ `3`\n",
    "- `1+2.0` \t\t→ `3.0`\n",
    "- `1+'A'` \t\t→ error message"
   ]
  },
  {
   "cell_type": "markdown",
   "metadata": {
    "slideshow": {
     "slide_type": "subslide"
    }
   },
   "source": [
    "Answers\n",
    "- `'A'+'B'` combines the two `str` (text) to produce a new `str`.\n",
    "- `1+2` sums the two `int`s (integers) to produce a new `int`.\n",
    "- `1+2.0` sums an `int` with a `float` (decimal) to get a `float`.\n",
    "- `1+'A'` produces a *type incompatibility error*. Python does not know how to convert `'A'` to a number."
   ]
  },
  {
   "cell_type": "markdown",
   "metadata": {
    "slideshow": {
     "slide_type": "slide"
    }
   },
   "source": [
    "# Type Conversion\n",
    "We can translate data from one data type to another using type conversion functions.\n",
    "- `float(5)` \t\t→ `5.0`\n",
    "- `int(5.0)` \t\t→ `5`\n",
    "- `str(5)` \t\t→ `‘5’`\n",
    "- `int(‘5.0’)` \t→ syntax error! Why?  \n",
    "\n",
    "We can do more complex conversions like this ...  \n",
    "- `int(float(‘5.0’))` → `5`"
   ]
  },
  {
   "cell_type": "markdown",
   "metadata": {
    "slideshow": {
     "slide_type": "slide"
    }
   },
   "source": [
    "# Variables\n",
    "- A variable is just a place that stores a value that we can recall and change later if needed.  \n",
    "- We can set the value of a variable using the assignment operator (=)  \n",
    "`<variable name> = <value>`\n",
    "- Each variable ...\n",
    "  - Can store one data value at a time\n",
    "  - Has a unique name (within scope) so you can access the data\n",
    "  - Can be modified (i.e., vary) through assignment"
   ]
  },
  {
   "cell_type": "markdown",
   "metadata": {
    "slideshow": {
     "slide_type": "slide"
    }
   },
   "source": [
    "# Try It Out!\n",
    "Execute the following script in the IPython Console. \n",
    "\n",
    "```python\n",
    "first_name = \"Bob\"\n",
    "last_name = \"Gibson\"\n",
    "print(\"Hi \"+first_name+\" \"+last_name)\n",
    "first_name = \"Dan\"\n",
    "print(\"Hi \"+first_name+\" \"+last_name)\n",
    "```"
   ]
  },
  {
   "cell_type": "code",
   "execution_count": 1,
   "metadata": {
    "slideshow": {
     "slide_type": "subslide"
    }
   },
   "outputs": [
    {
     "name": "stdout",
     "output_type": "stream",
     "text": [
      "Hi Bob Gibson\n",
      "Hi Dan Gibson\n"
     ]
    }
   ],
   "source": [
    "first_name = \"Bob\"\n",
    "last_name = \"Gibson\"\n",
    "print(\"Hi \"+first_name+\" \"+last_name)\n",
    "first_name = \"Dan\"\n",
    "print(\"Hi \"+first_name+\" \"+last_name)"
   ]
  },
  {
   "cell_type": "markdown",
   "metadata": {
    "slideshow": {
     "slide_type": "slide"
    }
   },
   "source": [
    "# Variable Names\n",
    "- Should be easy to understand and type\n",
    "  - Make the names describe what is being stored and how it is being used\n",
    "  - `last_name` is much better than names like `X` or `l` or even `ln`\n",
    "- Follow the [Python style guide](https://www.python.org/dev/peps/pep-0008/#naming-conventions)\n",
    "  - Always lower case and use underscores to separate words (e.g., `last_name`)\n",
    "  - Don’t go too crazy on the length (1-15 chars)\n",
    "  - And do not use keywords for names\n"
   ]
  },
  {
   "cell_type": "markdown",
   "metadata": {
    "slideshow": {
     "slide_type": "slide"
    }
   },
   "source": [
    "# Statements and Expressions\n",
    "A **statement** is a Python instruction (line of code) that asks Python to do something.\n",
    "  - `X=2` is an assignment statement\n",
    "\n",
    "An **expression** is a combination of values, variables, operators, and functions that can be **evaluated** to a value.\n",
    "  - Expressions **always** evaluate to a value\n",
    "  - `2+2` and `type(2+2)` are expressions"
   ]
  },
  {
   "cell_type": "markdown",
   "metadata": {
    "slideshow": {
     "slide_type": "slide"
    }
   },
   "source": [
    "# Functions\n",
    "- A **function** is a named, reusable sequence of **statements**\n",
    "  - Like how a variable is a place to store a value for later\n",
    "  - to run a function, just **call** it"
   ]
  },
  {
   "cell_type": "markdown",
   "metadata": {
    "slideshow": {
     "slide_type": "fragment"
    }
   },
   "source": [
    "- Functions can **return** values, **just like expressions**\n",
    "  - `str()` is a function that returns a string\n",
    "  - A call to `str()` is then itself an expression"
   ]
  },
  {
   "cell_type": "markdown",
   "metadata": {
    "slideshow": {
     "slide_type": "fragment"
    }
   },
   "source": [
    "- Function calls **always** include `()` (parentheses) after the function name\n",
    "  - Any values listed inside the `()` are **input arguments**\n",
    "  - `str(1.0 + 3)` calls `str()` with the expression `1.0+3` as the argument and returns the equivalent string value"
   ]
  },
  {
   "cell_type": "markdown",
   "metadata": {
    "slideshow": {
     "slide_type": "slide"
    }
   },
   "source": [
    "# Composite Function Calls\n",
    "Function arguments can call other functions if needed.  \n",
    "Remember this?\n",
    "```python \n",
    "int(float('5.0'))\n",
    "```\n",
    "The `float('5.0')` function call inside the parentheses is evaluated before passing the value into the `int()` function."
   ]
  },
  {
   "cell_type": "markdown",
   "metadata": {
    "slideshow": {
     "slide_type": "slide"
    }
   },
   "source": [
    "# Operators and Operands\n",
    "- An operator is a computation (‘verb’) that can be used in an expression to calculate a value\n",
    "  - `+`, `-`,`*`, and `/` are **arithmetic** operators\n",
    "  - `()` is a **grouping** operator\n",
    "- Operators are like functions that have special built-in ‘shortcut’ syntax:\n",
    "  - `2+3` is equivalent to function call like `add(2,3)`\n",
    "  - The values being operated on (`2` and `3` above) are called **operands**"
   ]
  },
  {
   "cell_type": "markdown",
   "metadata": {
    "slideshow": {
     "slide_type": "slide"
    }
   },
   "source": [
    "# Order of Operations: PEMDAS\n",
    "Math expressions are evaluated just like in algebra:\n",
    "1. Parentheses\n",
    "2. Exponents\n",
    "3. Multiplication\n",
    "4. Division\n",
    "5. Addition\n",
    "6. Subtraction"
   ]
  },
  {
   "cell_type": "markdown",
   "metadata": {
    "slideshow": {
     "slide_type": "fragment"
    }
   },
   "source": [
    "Trick: When in doubt use parentheses to force the right order."
   ]
  },
  {
   "cell_type": "markdown",
   "metadata": {
    "slideshow": {
     "slide_type": "slide"
    }
   },
   "source": [
    "# The Python Beginners Reference Cheat Sheet\n",
    "Suggestion: Download the Python 3 Beginner’s Reference Cheat Sheet from [sixthresearcher.com](http://sixthresearcher.com/wp-content/uploads/2016/12/Python3_reference_cheat_sheet.pdf)\n",
    "![Python Cheat Sheet Screenshot](img/L2_CheatSheet.png)"
   ]
  },
  {
   "cell_type": "markdown",
   "metadata": {
    "slideshow": {
     "slide_type": "slide"
    }
   },
   "source": [
    "# Debugging\n",
    "## Programming is 80% debugging!"
   ]
  },
  {
   "cell_type": "markdown",
   "metadata": {
    "slideshow": {
     "slide_type": "slide"
    }
   },
   "source": [
    "# Debugging is a Continual Process\n",
    "![Run-Debug-Edit](img/L2_RunDebugEdit.png)\n",
    "This Edit-Run-Debug cycle goes on **forever**, until **all** tech that uses the code is dead."
   ]
  },
  {
   "cell_type": "markdown",
   "metadata": {
    "slideshow": {
     "slide_type": "subslide"
    }
   },
   "source": [
    "In 2014, a serious security bug nicknamed Shellshock was found in `bash`, a package installed on hundreds of millions of computers, including every Macintosh since 2001. "
   ]
  },
  {
   "cell_type": "markdown",
   "metadata": {
    "slideshow": {
     "slide_type": "fragment"
    }
   },
   "source": [
    "**The bug had existed since 1989. That's 25 years!**  \n",
    "The bug has been fixed, of course."
   ]
  },
  {
   "cell_type": "markdown",
   "metadata": {
    "slideshow": {
     "slide_type": "slide"
    }
   },
   "source": [
    "# Avoiding Bugs\n",
    "**1. Know the Requirements.**  \n",
    "   Be smart but lazy. Do not solve the wrong problem and do not do more than you have to.  "
   ]
  },
  {
   "cell_type": "markdown",
   "metadata": {
    "slideshow": {
     "slide_type": "fragment"
    }
   },
   "source": [
    "**2. Start Small.**  \n",
    "    Debug early and often, starting with your first few lines of source code.  "
   ]
  },
  {
   "cell_type": "markdown",
   "metadata": {
    "slideshow": {
     "slide_type": "fragment"
    }
   },
   "source": [
    "**3. Keep Testing and Improving.**  \n",
    "   Even “perfect” code doesn’t exist in a vacuum. Changes to other people’s code can expose/induce bugs in your code!"
   ]
  },
  {
   "cell_type": "markdown",
   "metadata": {
    "slideshow": {
     "slide_type": "slide"
    }
   },
   "source": [
    "# Interpreting Error Messages\n",
    "- Often when things fail, Python will try to tell you what happened using standard error messages\n",
    "- Each error message has its own (obscure) way of reporting the problem. \n",
    "- Take the time to get to know the standard error messages and what they are telling you.\n"
   ]
  },
  {
   "cell_type": "markdown",
   "metadata": {
    "slideshow": {
     "slide_type": "slide"
    }
   },
   "source": [
    "# Most Common Errors\n",
    "- ParseError (55%)  \n",
    "  - A statement cannot be understood by the interpreter. Look for broken syntax. You may have to [RTFM](https://docs.python.org/) to get it right.\n",
    "- TypeError (14%)  \n",
    "  - An operation/function is being called on data of the wrong type. Check the data types and (again) [RTFM](https://docs.python.org/).\n",
    "- NameError (11%)  \n",
    "  - Usually, referring to a variable that does not exist. Check for typos in your variable names. Likely don’t have to [RTFM](https://docs.python.org/).\n",
    "- ValueError (10%)\n",
    "  - Function/op arguments fail validation check. [RTFM](https://docs.python.org/)."
   ]
  },
  {
   "cell_type": "markdown",
   "metadata": {
    "slideshow": {
     "slide_type": "fragment"
    }
   },
   "source": [
    "What's with the RTFMs? Maybe I'm trying to tell you something important. Google it."
   ]
  },
  {
   "cell_type": "markdown",
   "metadata": {
    "slideshow": {
     "slide_type": "slide"
    }
   },
   "source": [
    "# Diagnosis is an Active Process\n",
    "- Staring at your code to find and fix errors does not usually work. It just gives you eye strain.\n",
    "- Use a debugger (e.g., in Spyder IDE) or insert print statements (e.g., in Jupyter Notebook) to see what is going on. \n",
    "- Pro Tip: You can delete/comment out the print statements after you’ve fixed the bug. Or, use a logging tool to print debugging message to a separate file/console. The messages can be turned off and on as needed. \n"
   ]
  },
  {
   "cell_type": "markdown",
   "metadata": {
    "slideshow": {
     "slide_type": "slide"
    }
   },
   "source": [
    "# Looking Ahead: Lists and Loops\n",
    "## Navigating your first big data structure"
   ]
  },
  {
   "cell_type": "markdown",
   "metadata": {
    "slideshow": {
     "slide_type": "slide"
    }
   },
   "source": [
    "# What's a List?\n",
    "Lists are a **data structure** for grouping **collections** of values in one place. \n",
    "```python\n",
    "gashouse_gang = [\"Tinker\",\"Evers\",\"Chance\"]\n",
    "planets = [[1,\"Mercury\"],[2,\"Venus\"],[3,\"Earth\"]]\n",
    "```\n",
    "- The items in the list can be just about anything (including other lists)\n",
    "- The list is sequential, in a given order\n",
    "- We can add or delete items from the list as needed"
   ]
  },
  {
   "cell_type": "markdown",
   "metadata": {
    "slideshow": {
     "slide_type": "slide"
    }
   },
   "source": [
    "# List Indexes\n",
    "When we want to retrieve a list item, we use an **index** to indicate which one we want.\n",
    "```python\n",
    "letters = ['z','x','y','w']\n",
    "numbers = [4,3,2,1]\n",
    "\n",
    "second_letter = letters[1]      # returns 'x'\n",
    "third_number = numbers[2]       # returns 2\n",
    "```\n",
    "- Indexes are integers representing the position in the list\n",
    "- The first item is always at index 0\n",
    "- Note the syntax: it's always `<variable-name>[<index>]` (with no spaces)"
   ]
  },
  {
   "cell_type": "markdown",
   "metadata": {
    "slideshow": {
     "slide_type": "slide"
    }
   },
   "source": [
    "# Iteration\t with `for` Loops\n",
    "When we apply the same instructions to each member of a list, we are **iterating over** the list.\n",
    "```python\n",
    "values = [\"x\",\"y\",\"z\"]\n",
    "print(values[0],values[1],values[2])    # the buggy way\n",
    "for i in [0,1,2]:                       # for loop with explicit indexes\n",
    "    print(values[i],end=\" \")\n",
    "print(\" \")                              # spacing between lists\n",
    "for v in values:                        # for loop with implicit indexing\n",
    "    print(v,end=\" \")\n",
    "```"
   ]
  },
  {
   "cell_type": "code",
   "execution_count": 6,
   "metadata": {
    "slideshow": {
     "slide_type": "subslide"
    }
   },
   "outputs": [
    {
     "name": "stdout",
     "output_type": "stream",
     "text": [
      "x y z\n",
      "x y z  \n",
      "x y z "
     ]
    }
   ],
   "source": [
    "values = [\"x\",\"y\",\"z\"]\n",
    "print(values[0],values[1],values[2])    # the buggy way\n",
    "for i in [0,1,2]:                       # for loop with indexes\n",
    "    print(values[i],end=\" \")\n",
    "print(\" \")                              # spacing between lists\n",
    "for v in values:                        # for loop with implicit indexing\n",
    "    print(v,end=\" \")"
   ]
  },
  {
   "cell_type": "markdown",
   "metadata": {
    "slideshow": {
     "slide_type": "fragment"
    }
   },
   "source": [
    "The third way is less buggy. Why?"
   ]
  },
  {
   "cell_type": "markdown",
   "metadata": {
    "slideshow": {
     "slide_type": "slide"
    }
   },
   "source": [
    "# Control Flow Structures\n",
    "A loop is a kind of control structure that indicates the **flow of execution**.  \n",
    "Three basic kinds:\n",
    "  - Sequences (do this then do that ...)\n",
    "  - Loops (repeat this until done)\n",
    "  - Conditionals (if X then do this)  \n",
    "  \n",
    "Basically, anything that we can show on a flowchart is a control structure."
   ]
  },
  {
   "cell_type": "markdown",
   "metadata": {
    "slideshow": {
     "slide_type": "subslide"
    }
   },
   "source": [
    "![Flow chart](img/L2_Flowchart.png)"
   ]
  },
  {
   "cell_type": "markdown",
   "metadata": {
    "slideshow": {
     "slide_type": "slide"
    }
   },
   "source": [
    "# Quick Note about Indentation\n",
    "In Python whitespace is significant. It actually means something! It affects the logic and validity of your program. "
   ]
  },
  {
   "cell_type": "code",
   "execution_count": 3,
   "metadata": {
    "slideshow": {
     "slide_type": "fragment"
    }
   },
   "outputs": [
    {
     "name": "stdout",
     "output_type": "stream",
     "text": [
      "0\n",
      "1\n",
      "2\n",
      "3\n",
      "4\n",
      "5\n",
      "6\n",
      "7\n",
      "8\n",
      "9\n"
     ]
    }
   ],
   "source": [
    "for i in range(10):\n",
    "    print(i)"
   ]
  },
  {
   "cell_type": "code",
   "execution_count": 5,
   "metadata": {
    "slideshow": {
     "slide_type": "fragment"
    }
   },
   "outputs": [
    {
     "ename": "IndentationError",
     "evalue": "expected an indented block (<ipython-input-5-0c8aafc23d7e>, line 2)",
     "output_type": "error",
     "traceback": [
      "\u001b[0;36m  File \u001b[0;32m\"<ipython-input-5-0c8aafc23d7e>\"\u001b[0;36m, line \u001b[0;32m2\u001b[0m\n\u001b[0;31m    print(i)\u001b[0m\n\u001b[0m        ^\u001b[0m\n\u001b[0;31mIndentationError\u001b[0m\u001b[0;31m:\u001b[0m expected an indented block\n"
     ]
    }
   ],
   "source": [
    "for i in range(10):\n",
    "print(i)"
   ]
  },
  {
   "cell_type": "markdown",
   "metadata": {},
   "source": [
    "# Git, GitHub, GitHub Desktop\n",
    "## What they do and why you need them"
   ]
  },
  {
   "cell_type": "markdown",
   "metadata": {},
   "source": [
    "# Git\n",
    "- Git is a version control system (VCS)\n",
    "  - A global defacto standard, used by every tech company you've heard of\n",
    "  - First developed by Linus Torvalds to manage the Linux kernel\n",
    "- *Logs* all code changes, including rationale for each change\n",
    "  - Adds a database of metadata to code 'repositories' with essential information\n",
    "  - Allows any change to be reversed if needed, so we have a 'forever undo' capability\n",
    "- Git works natively from the command line; anything else is just a wrapper"
   ]
  },
  {
   "cell_type": "markdown",
   "metadata": {},
   "source": [
    "# GitHub\n",
    "- GitHub is a website for sharing Git repositories\n",
    "- Used by millions of people\n",
    "- Has direct support for rendering Jupyter Notebooks\n",
    "- Repositories can be copied by a process called 'forking' than should not be confused with 'cloning'\n",
    "  - fork creates a new repository based on an previous one\n",
    "  - clone makes a redundant copy than can be synced to the original"
   ]
  },
  {
   "cell_type": "markdown",
   "metadata": {},
   "source": [
    "# GitHub Desktop\n",
    "- A nice GUI for using GitHub to manage Git repositories on your computer\n",
    "- Also integrates with editors, terminals, file managers, and other desktop software to simplify most code management tasks\n",
    "- You don't need GitHub Desktop but it sure makes things convenient sometimes"
   ]
  },
  {
   "cell_type": "markdown",
   "metadata": {
    "slideshow": {
     "slide_type": "slide"
    }
   },
   "source": [
    "# Classwork (Start here in class)\n",
    "- Data Camp “Git Basic Workflow” assignment\n",
    "  - Git is not easy! Use this time to get help from the professor!\n",
    "- The GitHub Tutorial\n",
    "  - This will take you for spin around GitHub Desktop\n",
    "- If time permits, start in on your homework. \n",
    "\n",
    "# Homework (Do at home)\n",
    "The following is due before class next week:\n",
    "  - Any remaining classwork from tonight\n",
    "  - RSI Chapters 6, 7, and 8\n",
    "\n",
    "Please email chuntley@fairfield.edu if you have any problems or questions."
   ]
  },
  {
   "cell_type": "markdown",
   "metadata": {
    "slideshow": {
     "slide_type": "slide"
    }
   },
   "source": [
    "![DSB Logo](img/Dolan.jpg)\n",
    "# Python Language Essentials\n",
    "\n",
    "## RSI Chapters 2, 3, 4\n",
    "### Statements, Expressions, Variables, Values, Functions, and Operators"
   ]
  }
 ],
 "metadata": {
  "kernelspec": {
   "display_name": "Python 3",
   "language": "python",
   "name": "python3"
  },
  "language_info": {
   "codemirror_mode": {
    "name": "ipython",
    "version": 3
   },
   "file_extension": ".py",
   "mimetype": "text/x-python",
   "name": "python",
   "nbconvert_exporter": "python",
   "pygments_lexer": "ipython3",
   "version": "3.6.6"
  }
 },
 "nbformat": 4,
 "nbformat_minor": 2
}
