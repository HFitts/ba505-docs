{
 "cells": [
  {
   "cell_type": "markdown",
   "metadata": {
    "slideshow": {
     "slide_type": "slide"
    }
   },
   "source": [
    "![DSB Logo](img/Dolan.jpg)\n",
    "# Program Structure and Flow Control\n",
    "## RSI 5-8\n",
    "### Libraries, Modules, Objects, Methods, Functions, Blocks, Loops, and Conditionals"
   ]
  },
  {
   "cell_type": "markdown",
   "metadata": {
    "slideshow": {
     "slide_type": "slide"
    }
   },
   "source": [
    "# Learning Objectives\n",
    "\n",
    "## Theory / Be able to explain ...\n",
    "- How modules, classes, and functions facilitate code reuse\n",
    "- The parts of a function definition\n",
    "- The logic of blocks, conditions, and loops\n",
    "\n",
    "\n",
    "## Skills / Know how to  ...\n",
    "- import and use modules (and classes, functions, etc.)\n",
    "- Use dot notation to refer to an object's data and methods \n",
    "- Define a function \n",
    "- Write if statements in their many variants\n",
    "- Write for loops and while loops\n",
    "  \n",
    "\n"
   ]
  },
  {
   "cell_type": "markdown",
   "metadata": {
    "slideshow": {
     "slide_type": "slide"
    }
   },
   "source": [
    "# Three Kinds of Programming Structures\n",
    "- **Static** structure refers to how the code itself is organized and assembled into software\n",
    "- **Control** structure refers to programming logic (i.e., processing) used to tell the computer what to do\n",
    "- **Data** structure refers to the way data is used, stored, and organized\n",
    "\n",
    "We'll cover a bit of the first two tonight, leaving data structures for next week.\n"
   ]
  },
  {
   "cell_type": "markdown",
   "metadata": {
    "slideshow": {
     "slide_type": "slide"
    }
   },
   "source": [
    "# Static Structure\n",
    "## Libraries, Modules, Objects, and Functions"
   ]
  },
  {
   "cell_type": "markdown",
   "metadata": {
    "slideshow": {
     "slide_type": "slide"
    }
   },
   "source": [
    "# Libraries and Modules\n",
    "- Turtle Graphics (chapters 3 and 4) is a **library** for drawing line art on an area of the screen (called the canvas). \n",
    "   - A library is a collection of reusable python code, organized into one or more modules. \n",
    "- **Modules** are files (whose names end in `.py`) with variables, callable functions and other reusable code.\n",
    "   - We `import` modules to (re)use the code in our own programs."
   ]
  },
  {
   "cell_type": "markdown",
   "metadata": {
    "slideshow": {
     "slide_type": "slide"
    }
   },
   "source": [
    "# Standard vs Custom vs Third-Party\n",
    "Libraries (and modules) come in three flavors:\n",
    "- **Standard Library** modules are built into Python\n",
    "  - You may need to import them but you can count on them to be installed\n",
    "- **Custom** modules are written by you for your use\n",
    "  - Source code kept in a folder (library) on your hard drive\n",
    "- **Third-Party** modules must be **installed** in order to use them\n",
    "  - We can use a **package manager** like `pip` or `conda` to download and install them\n",
    "  - Once installed they work like standard libraries and be used anywhere in your code\n"
   ]
  },
  {
   "cell_type": "markdown",
   "metadata": {
    "slideshow": {
     "slide_type": "slide"
    }
   },
   "source": [
    "# A Simple Turtle Graphics Program\n",
    "```python\n",
    "import turtle           # use the turtle library\n",
    "wn = turtle.Screen()    # creates a graphics window\n",
    "alex = turtle.Turtle()  # create a turtle named alex\n",
    "alex.forward(150)       # tell alex to go forward 150 units\n",
    "alex.left(90)           # tell alex to turn by 90 degrees\n",
    "alex.forward(75)        # continues on (upward) ...\n",
    "```\n",
    "![turtle graphic](img/L3_Turtle.png)"
   ]
  },
  {
   "cell_type": "markdown",
   "metadata": {
    "slideshow": {
     "slide_type": "slide"
    }
   },
   "source": [
    "# Classes, Objects, and Methods\n",
    "- A **class** is a data type that defines ...\n",
    "  - What kind of data is stored and how it is organized\n",
    "  - What kinds of operations can be applied to the data  \n",
    "  \n",
    "  **Each data type in Python (even built-in ones like int or float) is actually a class.**\n",
    "- An **object** is an **instance** of a class (data type)\n",
    "  - The operations we can apply to the data are called **methods**.\n",
    "  - An object can bundle together multiple data values (of different types) as **instance variables**\n",
    "  - The current value of an object’s data is called its **state**.  \n",
    "  \n",
    "  **Each data value in Python is actually an object.**\n"
   ]
  },
  {
   "cell_type": "markdown",
   "metadata": {
    "slideshow": {
     "slide_type": "slide"
    }
   },
   "source": [
    "# Dot Notation\n",
    "To **invoke** (or call) a method of an object (literal value or variable reference), we tack on a dot (period) followed by the method call. The method calls always know what objects they are attached to.\n",
    "```\n",
    "<object>.<method call>\n",
    "```\n",
    "```python\n",
    "# Examples with string objects (instances)\n",
    "\"ZXYW\".lower()    # method call on a string literal \n",
    "alpha=\"abcd\"      # set a string variable\n",
    "alpha.upper()     # method call on string variable\n",
    "```"
   ]
  },
  {
   "cell_type": "code",
   "execution_count": 4,
   "metadata": {
    "slideshow": {
     "slide_type": "subslide"
    }
   },
   "outputs": [
    {
     "name": "stdout",
     "output_type": "stream",
     "text": [
      "zxyw\n",
      "ABCD\n"
     ]
    }
   ],
   "source": [
    "# Examples with string objects (instances)\n",
    "print(\"ZXYW\".lower())    # method call on a string literal \n",
    "alpha=\"abcd\"             # set a string variable\n",
    "print(alpha.upper())     # method call on string variable"
   ]
  },
  {
   "cell_type": "markdown",
   "metadata": {
    "slideshow": {
     "slide_type": "slide"
    }
   },
   "source": [
    "# Turtle Graphics Again\n",
    "\n",
    "```python\n",
    "import turtle           \n",
    "wn = turtle.Screen()   \n",
    "alex = turtle.Turtle()  \n",
    "alex.forward(150)      \n",
    "alex.left(90)          \n",
    "alex.forward(75)        \n",
    "\n",
    "```\n",
    "- A module is just a **container object** for classes, constants, variables, functions, etc.\n",
    "- We access the various parts of the module using dot notation, **just like any other object**.\n"
   ]
  },
  {
   "cell_type": "markdown",
   "metadata": {
    "slideshow": {
     "slide_type": "slide"
    }
   },
   "source": [
    "# A Quick Digression on Functions as Objects\n",
    "**Functions are also objects.** You can think of a function like an object with a single method that is executed every time the function is called. (There's more to it than that, of course ...)\n",
    "```python\n",
    "# the following does not run without some work (not shown)\n",
    "# but illustrates the \"everything is an object\" principle\n",
    "add(1,2)     # function call to add two numbers\n",
    "1.add(2)     # method call to add one number to another\n",
    "             # note that the number 1 is an object in Python\n",
    "```"
   ]
  },
  {
   "cell_type": "markdown",
   "metadata": {
    "slideshow": {
     "slide_type": "slide"
    }
   },
   "source": [
    "# Custom Functions\n",
    "## Roll your own functions. It's totally whack.\n",
    "(We're using that right, right?)"
   ]
  },
  {
   "cell_type": "markdown",
   "metadata": {
    "slideshow": {
     "slide_type": "slide"
    }
   },
   "source": [
    "# But first ... Definitions vs (other) Statements\n",
    "A module is a `.py` file that contains a number of reusable Python **definitions** and **statements**\n",
    "- **Definitions** specify classes (data types) and functions that can be used elsewhere\n",
    "- **Statements** perform actions like defining variables, calling functions, etc.   \n",
    "\n",
    "We use **`import` statements** to integrate modules into our code. We then use **dot notation** to refer to any classes or functions **defined** by the module. "
   ]
  },
  {
   "cell_type": "markdown",
   "metadata": {
    "slideshow": {
     "slide_type": "slide"
    }
   },
   "source": [
    "# Function Definitions\n",
    "A function definition **encapsulates** (Google that!) a block of code into a form that can be called by other code  \n",
    "```python\n",
    "def <name>(<parameters>):\n",
    "    <statements>\n",
    "```\n",
    "- **`def`** indicates the start of a function definition \n",
    "- `<name>` is the name of the function\n",
    "- `<parameters>` is a comma-delimited list of input variables  \n",
    "- The indented block of `<statements>` comprise the **body** of the function\n",
    "- Any variables are **local** to the function body and have no effect elsewhere."
   ]
  },
  {
   "cell_type": "markdown",
   "metadata": {
    "slideshow": {
     "slide_type": "fragment"
    }
   },
   "source": [
    "Take note: punctuation like indentation, spaces,`:`, `(` and `)` matter here. Don't ignore them!"
   ]
  },
  {
   "cell_type": "markdown",
   "metadata": {
    "slideshow": {
     "slide_type": "slide"
    }
   },
   "source": [
    "# Try It!\n",
    "```python\n",
    "def add_two_numbers(x,y):\n",
    "    z=x+y\n",
    "    return z\n",
    "add_two_numbers(1,2)\n",
    "```"
   ]
  },
  {
   "cell_type": "markdown",
   "metadata": {
    "slideshow": {
     "slide_type": "fragment"
    }
   },
   "source": [
    "`z` is a local variable and does not exist outside the function body. "
   ]
  },
  {
   "cell_type": "code",
   "execution_count": 10,
   "metadata": {
    "slideshow": {
     "slide_type": "subslide"
    }
   },
   "outputs": [
    {
     "data": {
      "text/plain": [
       "3"
      ]
     },
     "execution_count": 10,
     "metadata": {},
     "output_type": "execute_result"
    }
   ],
   "source": [
    "def add_two_numbers(x,y):\n",
    "    z=x+y\n",
    "    return z\n",
    "add_two_numbers(1,2)"
   ]
  },
  {
   "cell_type": "markdown",
   "metadata": {
    "slideshow": {
     "slide_type": "fragment"
    }
   },
   "source": [
    "Aside: Notice how Jupyter outputs the number 3 despite *not being asked to print anything?* By default, Jupyter displays the value of the last expression in a cell unless asked to print something else. "
   ]
  },
  {
   "cell_type": "markdown",
   "metadata": {
    "slideshow": {
     "slide_type": "subslide"
    }
   },
   "source": [
    "# Take Note\n",
    "- Function calls *pass arguments* but function definitions *define parameters*. Confused yet?\n",
    "- Parts of the function definition:\n",
    "  - The **function name** is `add_two_numbers`\n",
    "  - **parameters** `x` and `y` act like variables within the body\n",
    "  - **local variable** `z` is undefined outside of the function body\n",
    "  - The **`return`** statement completes the function call and (optionally) provides a value\n",
    "  - As always the **body** (block) is indicated with indentation\n"
   ]
  },
  {
   "cell_type": "markdown",
   "metadata": {
    "slideshow": {
     "slide_type": "slide"
    }
   },
   "source": [
    "# Control Structure\n",
    "## The logical underpinnings of any general purpose programming language"
   ]
  },
  {
   "cell_type": "markdown",
   "metadata": {
    "slideshow": {
     "slide_type": "slide"
    }
   },
   "source": [
    "# Blocks\n",
    "A **block** of code is just a series of statements that are run in the order given. \n",
    "- In Python indentation is used to indicate statements within the same block. One or more statements in sequence with the same indentation are in the same block\n",
    "- Individual statements can contain their own blocks, effectively nesting blocks inside one another (*Inception*-style)"
   ]
  },
  {
   "cell_type": "code",
   "execution_count": 2,
   "metadata": {
    "slideshow": {
     "slide_type": "fragment"
    }
   },
   "outputs": [
    {
     "name": "stdout",
     "output_type": "stream",
     "text": [
      "Evers\n",
      "Tinker\n",
      "Chance\n"
     ]
    }
   ],
   "source": [
    "gashouse_gang = [\"Evers\",\"Tinker\",\"Chance\"] # A block \n",
    "for player in gashouse_gang:                #   with two statements\n",
    "    print(player)                           # A new block nested within \n",
    "                                            #   the for statement "
   ]
  },
  {
   "cell_type": "code",
   "execution_count": 3,
   "metadata": {
    "slideshow": {
     "slide_type": "subslide"
    }
   },
   "outputs": [
    {
     "ename": "IndentationError",
     "evalue": "unexpected indent (<ipython-input-3-91f4d40a6bfe>, line 4)",
     "output_type": "error",
     "traceback": [
      "\u001b[0;36m  File \u001b[0;32m\"<ipython-input-3-91f4d40a6bfe>\"\u001b[0;36m, line \u001b[0;32m4\u001b[0m\n\u001b[0;31m    print(x+y)  # another block\u001b[0m\n\u001b[0m    ^\u001b[0m\n\u001b[0;31mIndentationError\u001b[0m\u001b[0;31m:\u001b[0m unexpected indent\n"
     ]
    }
   ],
   "source": [
    "x=1             # three statements \n",
    "y=2             # in the same \n",
    "print(x+y)      # block\n",
    "    print(x+y)  # another block"
   ]
  },
  {
   "cell_type": "markdown",
   "metadata": {
    "slideshow": {
     "slide_type": "fragment"
    }
   },
   "source": [
    "Why do you suppose we get this error?"
   ]
  },
  {
   "cell_type": "markdown",
   "metadata": {
    "slideshow": {
     "slide_type": "fragment"
    }
   },
   "source": [
    "Because indentation is part of the logic. It's illogical to start a new block for no reason. It needs to nest logically inside another statement."
   ]
  },
  {
   "cell_type": "markdown",
   "metadata": {
    "slideshow": {
     "slide_type": "slide"
    }
   },
   "source": [
    "# Conditionals\n",
    "Conditional execution allows a block to run only when given conditions are met.  \n",
    "Typical form is binary selection\n",
    "```python\n",
    "if <boolean expression>:\n",
    "   <True block>\n",
    "else:\n",
    "   <False block>\n",
    "```\n"
   ]
  },
  {
   "cell_type": "markdown",
   "metadata": {
    "slideshow": {
     "slide_type": "fragment"
    }
   },
   "source": [
    "## What's a boolean expression?\n",
    "- a bit of code that evaluates to True or False\n",
    "- we'll come back to this in a minute"
   ]
  },
  {
   "cell_type": "markdown",
   "metadata": {
    "slideshow": {
     "slide_type": "slide"
    }
   },
   "source": [
    "# Try it yourself\n",
    "```python\n",
    "x=1\n",
    "y=2\n",
    "if x>y:\n",
    "    print(\"x is bigger than y\")\n",
    "else:\n",
    "    print(\"x is not bigger than y\")\n",
    "```"
   ]
  },
  {
   "cell_type": "code",
   "execution_count": 5,
   "metadata": {
    "slideshow": {
     "slide_type": "subslide"
    }
   },
   "outputs": [
    {
     "name": "stdout",
     "output_type": "stream",
     "text": [
      "x is not bigger than y\n"
     ]
    }
   ],
   "source": [
    "x=1\n",
    "y=2\n",
    "if x>y:\n",
    "    print(\"x is bigger than y\")\n",
    "else:\n",
    "    print(\"x is not bigger than y\")"
   ]
  },
  {
   "cell_type": "markdown",
   "metadata": {
    "slideshow": {
     "slide_type": "slide"
    }
   },
   "source": [
    "# Useful variations\n",
    "## Unary Selection\n",
    "We don't have to have an `else`\n",
    "```python\n",
    "if <boolean>:\n",
    "    <success block>\n",
    "```  \n",
    "\n",
    "## Chained Selection\n",
    "We can also *handle* more than one condition with `elif` clauses\n",
    "```python\n",
    "if <boolean-1>:\n",
    "    <block-1>\n",
    "elif <boolean-2>:\n",
    "    <block-2>\n",
    "elif <boolean-2>:\n",
    "    <block-2>\n",
    "else: \n",
    "    <default block>\n",
    "```  "
   ]
  },
  {
   "cell_type": "markdown",
   "metadata": {
    "slideshow": {
     "slide_type": "slide"
    }
   },
   "source": [
    "# Boolean Expressions\n",
    "So what counts as a boolean expression?\n",
    "- **Literal values** 0 (False) and 1 (True) or equivalents\n",
    "- Relational **comparisons**:\n",
    "  - `x == y`  (is x equal to y?)\n",
    "  - `x > y`   (is x greater than y?)\n",
    "  - `x >= y`  (is x greater than or equal to y?)\n",
    "- Logical **composites** of boolean expressions (with `and`, `or`, `not`, and `()` operators):  \n",
    "  `((x == 1) or ((x > 10) and not (x == 15))`"
   ]
  },
  {
   "cell_type": "markdown",
   "metadata": {
    "slideshow": {
     "slide_type": "slide"
    }
   },
   "source": [
    "# Try it Yourself\n",
    "```python\n",
    "x = 8\n",
    "y = (x == 1) or ((x > 10) and not (x == 15))\n",
    "print(y)\n",
    "```"
   ]
  },
  {
   "cell_type": "code",
   "execution_count": 6,
   "metadata": {
    "slideshow": {
     "slide_type": "subslide"
    }
   },
   "outputs": [
    {
     "name": "stdout",
     "output_type": "stream",
     "text": [
      "False\n"
     ]
    }
   ],
   "source": [
    "x = 8\n",
    "y = (x == 1) or ((x > 10) and not (x == 15))\n",
    "print(y)"
   ]
  },
  {
   "cell_type": "markdown",
   "metadata": {
    "slideshow": {
     "slide_type": "fragment"
    }
   },
   "source": [
    "Try other values of `x`. What values cause the expression to evaluate to `True`?  \n"
   ]
  },
  {
   "cell_type": "markdown",
   "metadata": {
    "slideshow": {
     "slide_type": "slide"
    }
   },
   "source": [
    "# Loops\n",
    "A loop **repeats** a block called the **body** over and over again until a **termination condition** is met.\n",
    "- Our old friend the `for` loop is great for iterating over a set of items\n",
    "- Sometimes we need to handle more complex logic, which leads us to the `while` loop "
   ]
  },
  {
   "cell_type": "markdown",
   "metadata": {
    "slideshow": {
     "slide_type": "slide"
    }
   },
   "source": [
    "# A Challenge\n",
    "Write a for loop that tests each value of `x` between 0 and 16. For each value tested, print the value and whether `(x == 1) or ((x > 10) and not (x == 15))` is true or false."
   ]
  },
  {
   "cell_type": "code",
   "execution_count": 7,
   "metadata": {
    "slideshow": {
     "slide_type": "subslide"
    }
   },
   "outputs": [
    {
     "name": "stdout",
     "output_type": "stream",
     "text": [
      "0 False\n",
      "1 True\n",
      "2 False\n",
      "3 False\n",
      "4 False\n",
      "5 False\n",
      "6 False\n",
      "7 False\n",
      "8 False\n",
      "9 False\n",
      "10 False\n",
      "11 True\n",
      "12 True\n",
      "13 True\n",
      "14 True\n",
      "15 False\n",
      "16 True\n"
     ]
    }
   ],
   "source": [
    "for x in range(17):\n",
    "    y = (x == 1) or ((x > 10) and not (x == 15))\n",
    "    print(x, y)"
   ]
  },
  {
   "cell_type": "markdown",
   "metadata": {
    "slideshow": {
     "slide_type": "slide"
    }
   },
   "source": [
    "# `while` Loops\n",
    "```python\n",
    "while <boolean>:\n",
    "    <statements>\n",
    "```\n",
    "- `<boolean>` is a condition to check at the start of each pass through the loop\n",
    "- `<statements>` in the body are only executed when the condition is true; if the condition is false then execution skips to the statement *immediately after* the loop body\n",
    "![While Loop](img/L3_WhileLoop.png)"
   ]
  },
  {
   "cell_type": "markdown",
   "metadata": {
    "slideshow": {
     "slide_type": "slide"
    }
   },
   "source": [
    "# Pro Tip: The Accumulator Pattern\n",
    "Anything you can do with a `for` loop, you can also do with a `while` loop (though in a slightly more verbose way) using an **accumulator variable**.\n",
    "- Each pass through the loop updates one or more accumulator variables to reflect history to that point\n",
    "- Accumulators can be anything: a number, a string, a list, etc.\n",
    "- Often, but not always, the loop condition is based on the value of an accumulator variable"
   ]
  },
  {
   "cell_type": "code",
   "execution_count": 8,
   "metadata": {
    "slideshow": {
     "slide_type": "subslide"
    }
   },
   "outputs": [
    {
     "name": "stdout",
     "output_type": "stream",
     "text": [
      "0 False\n",
      "1 True\n",
      "2 False\n",
      "3 False\n",
      "4 False\n",
      "5 False\n",
      "6 False\n",
      "7 False\n",
      "8 False\n",
      "9 False\n",
      "10 False\n",
      "11 True\n",
      "12 True\n",
      "13 True\n",
      "14 True\n",
      "15 False\n",
      "16 True\n"
     ]
    }
   ],
   "source": [
    "# The example for loop (again)\n",
    "\n",
    "# for x in range(17):\n",
    "#    y = (x == 1) or ((x > 10) and not (x == 15))\n",
    "#    print(x, y)\n",
    "\n",
    "# --------------------------------------------------------\n",
    "\n",
    "# The equivalent while loop\n",
    "#\n",
    "\n",
    "x = 0          # initialize our accumulator x\n",
    "while x < 17:\n",
    "    y = (x == 1) or ((x > 10) and not (x == 15))\n",
    "    print(x, y)\n",
    "    x = x + 1  # increment the accumulator each \n",
    "               # pass through the loop"
   ]
  },
  {
   "cell_type": "markdown",
   "metadata": {
    "slideshow": {
     "slide_type": "slide"
    }
   },
   "source": [
    "# And now let's take it to the next level\n",
    "Use a while loop to find and print out the values of `x` (up to 16) such that `(x == 1) or ((x > 10) and not (x == 15))` is true. Do not print out the values where it is false."
   ]
  },
  {
   "cell_type": "code",
   "execution_count": 9,
   "metadata": {
    "slideshow": {
     "slide_type": "subslide"
    }
   },
   "outputs": [
    {
     "name": "stdout",
     "output_type": "stream",
     "text": [
      "1\n",
      "11\n",
      "12\n",
      "13\n",
      "14\n",
      "16\n"
     ]
    }
   ],
   "source": [
    "x=0 \n",
    "while x <= 16:\n",
    "    if (x == 1) or ((x > 10) and not (x == 15)):\n",
    "        print(x)\n",
    "    x = x + 1"
   ]
  },
  {
   "cell_type": "markdown",
   "metadata": {
    "slideshow": {
     "slide_type": "slide"
    }
   },
   "source": [
    "# A Caution About Infinite Loops\n",
    "What's wrong with this loop?\n",
    "```python\n",
    "x = 0\n",
    "while x < 10:\n",
    "    print(x)\n",
    "```"
   ]
  },
  {
   "cell_type": "markdown",
   "metadata": {
    "slideshow": {
     "slide_type": "fragment"
    }
   },
   "source": [
    "We forgot to modify the accumulator variable x with every pass through the loop!  \n",
    "The test `x<10` never returns `False`, so the loop never ends. This can actually crash your computer if the loop is part of your operating system code. "
   ]
  },
  {
   "cell_type": "markdown",
   "metadata": {
    "slideshow": {
     "slide_type": "slide"
    }
   },
   "source": [
    "# Classwork (Start here in class)\n",
    "- Data Camp “Functions and Packages” assignment\n",
    "- Health Stats Part 1\n",
    "- If time permits, start in on your homework. \n",
    "\n",
    "# Homework (Do at home)\n",
    "The following is due before class next week:\n",
    "  - Any remaining classwork from tonight\n",
    "  - RSI Chapters 9, 10, and 12\n",
    "\n",
    "Please email chuntley@fairfield.edu if you have any problems or questions."
   ]
  },
  {
   "cell_type": "markdown",
   "metadata": {
    "slideshow": {
     "slide_type": "slide"
    }
   },
   "source": [
    "![DSB Logo](img/Dolan.jpg)\n",
    "# Program Structure and Flow Control\n",
    "## RSI 5-8\n",
    "### Libraries, Modules, Objects, Methods, Functions, Blocks, Loops, and Conditionals"
   ]
  }
 ],
 "metadata": {
  "kernelspec": {
   "display_name": "Python 3",
   "language": "python",
   "name": "python3"
  },
  "language_info": {
   "codemirror_mode": {
    "name": "ipython",
    "version": 3
   },
   "file_extension": ".py",
   "mimetype": "text/x-python",
   "name": "python",
   "nbconvert_exporter": "python",
   "pygments_lexer": "ipython3",
   "version": "3.6.6"
  }
 },
 "nbformat": 4,
 "nbformat_minor": 2
}
