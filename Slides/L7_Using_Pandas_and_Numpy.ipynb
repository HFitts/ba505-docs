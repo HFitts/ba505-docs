{
 "cells": [
  {
   "cell_type": "markdown",
   "metadata": {
    "slideshow": {
     "slide_type": "slide"
    }
   },
   "source": [
    "![DSB Logo](img/Dolan.jpg)\n",
    "# Using pandas and NumPy\n",
    "## pandas and NumPy tips and techniques   \n",
    "\n",
    "http://pandas.pydata.org/pandas-docs/stable/index.html  \n",
    "https://docs.scipy.org/doc/numpy-dev/reference/index.html#reference  "
   ]
  },
  {
   "cell_type": "markdown",
   "metadata": {
    "slideshow": {
     "slide_type": "slide"
    }
   },
   "source": [
    "# Learning Objectives\n",
    "\n",
    "## Theory / Be able to explain ...\n",
    "- How pandas extends the functionality of Numpy to provide more functionality and better data handling\n",
    "\n",
    "## Skills / Know how to  ...\n",
    "- Convert data from pandas to Numpy and back again\n",
    "- Use advanced selection techniques to get just the data you want\n",
    "- Treat time series data just like any other dataset in pandas"
   ]
  },
  {
   "cell_type": "markdown",
   "metadata": {
    "slideshow": {
     "slide_type": "slide"
    }
   },
   "source": [
    "# What we've learned so far about NumPy and pandas\n",
    "\n",
    "**NumPy** is a library for quantitative analysis of tabular data.  \n",
    "- `ndarray` data structure for normalized tabular data\n",
    "- universal functions and methods for mathematical calculations and basic I/O\n",
    "\n",
    "**pandas** is built on top of NumPy to make it easier to use.  \n",
    "- Includes the full NumPy functionality (including functions, methods, and the `ndarray` data structure)\n",
    "- Extends the `ndarray` data structure with two new data structures with lots of useful features:\n",
    "    - `Series` is like a 1D `ndarray` but with more flexibility to handle missing data, odd data types, etc. \n",
    "    - `DataFrame` is for 2D data tables; each `DataFrame` is equivalent to a dictionary of `Series`, with each `Series` comprising one *column* of the table"
   ]
  },
  {
   "cell_type": "markdown",
   "metadata": {
    "slideshow": {
     "slide_type": "subslide"
    }
   },
   "source": [
    "So, that's lots about data structures but not so much about how to actually use pandas and Numpy for analysis!\n",
    "\n",
    "That's partly because a lot of the most critical functionality for analytics is provided by third-party libraries like sci-kit learn, which you will use in BA 545 for data mining and machine learning applications. \n",
    "\n",
    "However, we can and will use pandas and Numpy without the advanced stuff. Let's review some of the basics ... "
   ]
  },
  {
   "cell_type": "markdown",
   "metadata": {
    "slideshow": {
     "slide_type": "slide"
    }
   },
   "source": [
    "# Interoperability\n",
    "## Making Numpy and pandas share with each other"
   ]
  },
  {
   "cell_type": "markdown",
   "metadata": {
    "slideshow": {
     "slide_type": "slide"
    }
   },
   "source": [
    "# Pandas → NumPy → Pandas\n",
    "**NumPy → Pandas is easy**\n",
    "- Pandas `pd.Series()` or `pd.DataFrame()` constructors are designed to convert from NumPy arrays.\n",
    "\n",
    "**Pandas → NumPy can sometimes take some work**\n",
    "- While NumPy does not reciprocate by taking pandas Series or DataFrames in its `np.array()` constructor, there are several handy methods for exporting DataFrames and Series to `ndarray`s.\n",
    "- Fortunately, Pandas takes care to minimize inconvenience impersonating NumPy whenever possible.\n"
   ]
  },
  {
   "cell_type": "markdown",
   "metadata": {
    "slideshow": {
     "slide_type": "subslide"
    }
   },
   "source": [
    "# First, we need a DataFrame to play with"
   ]
  },
  {
   "cell_type": "code",
   "execution_count": 1,
   "metadata": {
    "slideshow": {
     "slide_type": "-"
    }
   },
   "outputs": [
    {
     "data": {
      "text/html": [
       "<div>\n",
       "<style scoped>\n",
       "    .dataframe tbody tr th:only-of-type {\n",
       "        vertical-align: middle;\n",
       "    }\n",
       "\n",
       "    .dataframe tbody tr th {\n",
       "        vertical-align: top;\n",
       "    }\n",
       "\n",
       "    .dataframe thead th {\n",
       "        text-align: right;\n",
       "    }\n",
       "</style>\n",
       "<table border=\"1\" class=\"dataframe\">\n",
       "  <thead>\n",
       "    <tr style=\"text-align: right;\">\n",
       "      <th></th>\n",
       "      <th>diam</th>\n",
       "      <th>grav</th>\n",
       "      <th>orbit</th>\n",
       "      <th>spin</th>\n",
       "    </tr>\n",
       "    <tr>\n",
       "      <th>name</th>\n",
       "      <th></th>\n",
       "      <th></th>\n",
       "      <th></th>\n",
       "      <th></th>\n",
       "    </tr>\n",
       "  </thead>\n",
       "  <tbody>\n",
       "    <tr>\n",
       "      <th>Mercury</th>\n",
       "      <td>4878</td>\n",
       "      <td>0.38</td>\n",
       "      <td>88.00</td>\n",
       "      <td>59.00000</td>\n",
       "    </tr>\n",
       "    <tr>\n",
       "      <th>Venus</th>\n",
       "      <td>12104</td>\n",
       "      <td>0.90</td>\n",
       "      <td>224.00</td>\n",
       "      <td>243.00000</td>\n",
       "    </tr>\n",
       "    <tr>\n",
       "      <th>Earth</th>\n",
       "      <td>12756</td>\n",
       "      <td>1.00</td>\n",
       "      <td>365.25</td>\n",
       "      <td>0.99700</td>\n",
       "    </tr>\n",
       "    <tr>\n",
       "      <th>Mars</th>\n",
       "      <td>6794</td>\n",
       "      <td>0.38</td>\n",
       "      <td>687.00</td>\n",
       "      <td>1.02500</td>\n",
       "    </tr>\n",
       "    <tr>\n",
       "      <th>Jupiter</th>\n",
       "      <td>142984</td>\n",
       "      <td>2.64</td>\n",
       "      <td>4329.00</td>\n",
       "      <td>0.41300</td>\n",
       "    </tr>\n",
       "    <tr>\n",
       "      <th>Saturn</th>\n",
       "      <td>120536</td>\n",
       "      <td>1.16</td>\n",
       "      <td>10592.25</td>\n",
       "      <td>0.44375</td>\n",
       "    </tr>\n",
       "    <tr>\n",
       "      <th>Uranus</th>\n",
       "      <td>51118</td>\n",
       "      <td>1.11</td>\n",
       "      <td>30681.00</td>\n",
       "      <td>0.71805</td>\n",
       "    </tr>\n",
       "    <tr>\n",
       "      <th>Neptune</th>\n",
       "      <td>49532</td>\n",
       "      <td>1.21</td>\n",
       "      <td>60193.20</td>\n",
       "      <td>0.67153</td>\n",
       "    </tr>\n",
       "  </tbody>\n",
       "</table>\n",
       "</div>"
      ],
      "text/plain": [
       "           diam  grav     orbit       spin\n",
       "name                                      \n",
       "Mercury    4878  0.38     88.00   59.00000\n",
       "Venus     12104  0.90    224.00  243.00000\n",
       "Earth     12756  1.00    365.25    0.99700\n",
       "Mars       6794  0.38    687.00    1.02500\n",
       "Jupiter  142984  2.64   4329.00    0.41300\n",
       "Saturn   120536  1.16  10592.25    0.44375\n",
       "Uranus    51118  1.11  30681.00    0.71805\n",
       "Neptune   49532  1.21  60193.20    0.67153"
      ]
     },
     "execution_count": 1,
     "metadata": {},
     "output_type": "execute_result"
    }
   ],
   "source": [
    "import numpy as np\n",
    "import pandas as pd\n",
    "planets = pd.DataFrame([{'name':'Mercury','diam':4878,'spin':59,'orbit':88,'grav':0.38},\n",
    " {'name':'Venus','diam':12104,'spin':243,'orbit':224,'grav':0.9},\n",
    " {'name':'Earth','diam':12756,'spin':0.997,'orbit':365.25,'grav':1.0},\n",
    " {'name':'Mars','diam':6794,'spin':1.025,'orbit':687,'grav':0.38},\n",
    " {'name':'Jupiter','diam':142984,'spin':0.413,'orbit':4329,'grav':2.64},         \n",
    " {'name':'Saturn','diam':120536,'spin':0.44375,'orbit':10592.25,'grav':1.16},\n",
    " {'name':'Uranus','diam':51118,'spin':0.71805,'orbit':30681,'grav':1.11},\n",
    " {'name':'Neptune','diam':49532,'spin':0.67153,'orbit':60193.2,'grav':1.21}])\n",
    "planets.set_index('name',inplace=True)\n",
    "planets"
   ]
  },
  {
   "cell_type": "markdown",
   "metadata": {
    "slideshow": {
     "slide_type": "slide"
    }
   },
   "source": [
    "# `DataFrame`s posing as `ndarray`s\n",
    "**Technical details**\n",
    "- pandas arrays (Series and DataFrames) implement NumPy's `NDFrame` interface (spec) for the `ndarray` class\n",
    "- pandas also uses `ndarray` objects internally, for now\n",
    "\n",
    "**Implications for Pandas**\n",
    "- pandas arrays can generally be used anywhere one can use NumPy `ndarray`s\n",
    "- pandas provides utilities to handle occasional incompatibilities\n"
   ]
  },
  {
   "cell_type": "code",
   "execution_count": 2,
   "metadata": {},
   "outputs": [
    {
     "data": {
      "text/plain": [
       "name\n",
       "Mercury     4.477337\n",
       "Venus       5.411646\n",
       "Earth       5.900582\n",
       "Mars        6.532334\n",
       "Jupiter     8.373092\n",
       "Saturn      9.267878\n",
       "Uranus     10.331399\n",
       "Neptune    11.005315\n",
       "Name: orbit, dtype: float64"
      ]
     },
     "execution_count": 2,
     "metadata": {},
     "output_type": "execute_result"
    }
   ],
   "source": [
    "# use a NumPy Universal Function on a Series\n",
    "np.log(planets['orbit'])"
   ]
  },
  {
   "cell_type": "markdown",
   "metadata": {
    "slideshow": {
     "slide_type": "slide"
    }
   },
   "source": [
    "# The pandas `values` Attribute\n",
    "Pandas uses `ndarray`s internally to store data. These arrays can be accessed directly using the `values` attribute. "
   ]
  },
  {
   "cell_type": "code",
   "execution_count": 3,
   "metadata": {},
   "outputs": [
    {
     "name": "stdout",
     "output_type": "stream",
     "text": [
      "<class 'numpy.ndarray'>\n"
     ]
    },
    {
     "data": {
      "text/plain": [
       "array([   88.  ,   224.  ,   365.25,   687.  ,  4329.  , 10592.25,\n",
       "       30681.  , 60193.2 ])"
      ]
     },
     "execution_count": 3,
     "metadata": {},
     "output_type": "execute_result"
    }
   ],
   "source": [
    "# Access the interval ndarray\n",
    "planets_ndarray = planets['orbit'].values\n",
    "print(type(planets_ndarray))\n",
    "planets_ndarray"
   ]
  },
  {
   "cell_type": "code",
   "execution_count": 4,
   "metadata": {
    "slideshow": {
     "slide_type": "subslide"
    }
   },
   "outputs": [
    {
     "data": {
      "text/html": [
       "<div>\n",
       "<style scoped>\n",
       "    .dataframe tbody tr th:only-of-type {\n",
       "        vertical-align: middle;\n",
       "    }\n",
       "\n",
       "    .dataframe tbody tr th {\n",
       "        vertical-align: top;\n",
       "    }\n",
       "\n",
       "    .dataframe thead th {\n",
       "        text-align: right;\n",
       "    }\n",
       "</style>\n",
       "<table border=\"1\" class=\"dataframe\">\n",
       "  <thead>\n",
       "    <tr style=\"text-align: right;\">\n",
       "      <th></th>\n",
       "      <th>diam</th>\n",
       "      <th>grav</th>\n",
       "      <th>orbit</th>\n",
       "      <th>spin</th>\n",
       "    </tr>\n",
       "    <tr>\n",
       "      <th>name</th>\n",
       "      <th></th>\n",
       "      <th></th>\n",
       "      <th></th>\n",
       "      <th></th>\n",
       "    </tr>\n",
       "  </thead>\n",
       "  <tbody>\n",
       "    <tr>\n",
       "      <th>Mercury</th>\n",
       "      <td>4878</td>\n",
       "      <td>0.38</td>\n",
       "      <td>88.00</td>\n",
       "      <td>59.00000</td>\n",
       "    </tr>\n",
       "    <tr>\n",
       "      <th>Venus</th>\n",
       "      <td>12104</td>\n",
       "      <td>0.90</td>\n",
       "      <td>5.00</td>\n",
       "      <td>243.00000</td>\n",
       "    </tr>\n",
       "    <tr>\n",
       "      <th>Earth</th>\n",
       "      <td>12756</td>\n",
       "      <td>1.00</td>\n",
       "      <td>365.25</td>\n",
       "      <td>0.99700</td>\n",
       "    </tr>\n",
       "    <tr>\n",
       "      <th>Mars</th>\n",
       "      <td>6794</td>\n",
       "      <td>0.38</td>\n",
       "      <td>687.00</td>\n",
       "      <td>1.02500</td>\n",
       "    </tr>\n",
       "    <tr>\n",
       "      <th>Jupiter</th>\n",
       "      <td>142984</td>\n",
       "      <td>2.64</td>\n",
       "      <td>4329.00</td>\n",
       "      <td>0.41300</td>\n",
       "    </tr>\n",
       "    <tr>\n",
       "      <th>Saturn</th>\n",
       "      <td>120536</td>\n",
       "      <td>1.16</td>\n",
       "      <td>10592.25</td>\n",
       "      <td>0.44375</td>\n",
       "    </tr>\n",
       "    <tr>\n",
       "      <th>Uranus</th>\n",
       "      <td>51118</td>\n",
       "      <td>1.11</td>\n",
       "      <td>30681.00</td>\n",
       "      <td>0.71805</td>\n",
       "    </tr>\n",
       "    <tr>\n",
       "      <th>Neptune</th>\n",
       "      <td>49532</td>\n",
       "      <td>1.21</td>\n",
       "      <td>60193.20</td>\n",
       "      <td>0.67153</td>\n",
       "    </tr>\n",
       "  </tbody>\n",
       "</table>\n",
       "</div>"
      ],
      "text/plain": [
       "           diam  grav     orbit       spin\n",
       "name                                      \n",
       "Mercury    4878  0.38     88.00   59.00000\n",
       "Venus     12104  0.90      5.00  243.00000\n",
       "Earth     12756  1.00    365.25    0.99700\n",
       "Mars       6794  0.38    687.00    1.02500\n",
       "Jupiter  142984  2.64   4329.00    0.41300\n",
       "Saturn   120536  1.16  10592.25    0.44375\n",
       "Uranus    51118  1.11  30681.00    0.71805\n",
       "Neptune   49532  1.21  60193.20    0.67153"
      ]
     },
     "execution_count": 4,
     "metadata": {},
     "output_type": "execute_result"
    }
   ],
   "source": [
    "# We can then modify the original 'orbit' column by directly editing planets_ndarray \n",
    "planets_ndarray[1] = 5\n",
    "planets"
   ]
  },
  {
   "cell_type": "code",
   "execution_count": 5,
   "metadata": {
    "slideshow": {
     "slide_type": "skip"
    }
   },
   "outputs": [
    {
     "data": {
      "text/html": [
       "<div>\n",
       "<style scoped>\n",
       "    .dataframe tbody tr th:only-of-type {\n",
       "        vertical-align: middle;\n",
       "    }\n",
       "\n",
       "    .dataframe tbody tr th {\n",
       "        vertical-align: top;\n",
       "    }\n",
       "\n",
       "    .dataframe thead th {\n",
       "        text-align: right;\n",
       "    }\n",
       "</style>\n",
       "<table border=\"1\" class=\"dataframe\">\n",
       "  <thead>\n",
       "    <tr style=\"text-align: right;\">\n",
       "      <th></th>\n",
       "      <th>diam</th>\n",
       "      <th>grav</th>\n",
       "      <th>orbit</th>\n",
       "      <th>spin</th>\n",
       "    </tr>\n",
       "    <tr>\n",
       "      <th>name</th>\n",
       "      <th></th>\n",
       "      <th></th>\n",
       "      <th></th>\n",
       "      <th></th>\n",
       "    </tr>\n",
       "  </thead>\n",
       "  <tbody>\n",
       "    <tr>\n",
       "      <th>Mercury</th>\n",
       "      <td>4878</td>\n",
       "      <td>0.38</td>\n",
       "      <td>88.00</td>\n",
       "      <td>59.00000</td>\n",
       "    </tr>\n",
       "    <tr>\n",
       "      <th>Venus</th>\n",
       "      <td>12104</td>\n",
       "      <td>0.90</td>\n",
       "      <td>224.00</td>\n",
       "      <td>243.00000</td>\n",
       "    </tr>\n",
       "    <tr>\n",
       "      <th>Earth</th>\n",
       "      <td>12756</td>\n",
       "      <td>1.00</td>\n",
       "      <td>365.25</td>\n",
       "      <td>0.99700</td>\n",
       "    </tr>\n",
       "    <tr>\n",
       "      <th>Mars</th>\n",
       "      <td>6794</td>\n",
       "      <td>0.38</td>\n",
       "      <td>687.00</td>\n",
       "      <td>1.02500</td>\n",
       "    </tr>\n",
       "    <tr>\n",
       "      <th>Jupiter</th>\n",
       "      <td>142984</td>\n",
       "      <td>2.64</td>\n",
       "      <td>4329.00</td>\n",
       "      <td>0.41300</td>\n",
       "    </tr>\n",
       "    <tr>\n",
       "      <th>Saturn</th>\n",
       "      <td>120536</td>\n",
       "      <td>1.16</td>\n",
       "      <td>10592.25</td>\n",
       "      <td>0.44375</td>\n",
       "    </tr>\n",
       "    <tr>\n",
       "      <th>Uranus</th>\n",
       "      <td>51118</td>\n",
       "      <td>1.11</td>\n",
       "      <td>30681.00</td>\n",
       "      <td>0.71805</td>\n",
       "    </tr>\n",
       "    <tr>\n",
       "      <th>Neptune</th>\n",
       "      <td>49532</td>\n",
       "      <td>1.21</td>\n",
       "      <td>60193.20</td>\n",
       "      <td>0.67153</td>\n",
       "    </tr>\n",
       "  </tbody>\n",
       "</table>\n",
       "</div>"
      ],
      "text/plain": [
       "           diam  grav     orbit       spin\n",
       "name                                      \n",
       "Mercury    4878  0.38     88.00   59.00000\n",
       "Venus     12104  0.90    224.00  243.00000\n",
       "Earth     12756  1.00    365.25    0.99700\n",
       "Mars       6794  0.38    687.00    1.02500\n",
       "Jupiter  142984  2.64   4329.00    0.41300\n",
       "Saturn   120536  1.16  10592.25    0.44375\n",
       "Uranus    51118  1.11  30681.00    0.71805\n",
       "Neptune   49532  1.21  60193.20    0.67153"
      ]
     },
     "execution_count": 5,
     "metadata": {},
     "output_type": "execute_result"
    }
   ],
   "source": [
    "planets_ndarray[1] = 224.00\n",
    "planets"
   ]
  },
  {
   "cell_type": "markdown",
   "metadata": {
    "slideshow": {
     "slide_type": "subslide"
    }
   },
   "source": [
    "# Caveat\n",
    "The `values` attribute is read-only if a DataFrame has heterogeneous columns."
   ]
  },
  {
   "cell_type": "code",
   "execution_count": 6,
   "metadata": {},
   "outputs": [
    {
     "data": {
      "text/html": [
       "<div>\n",
       "<style scoped>\n",
       "    .dataframe tbody tr th:only-of-type {\n",
       "        vertical-align: middle;\n",
       "    }\n",
       "\n",
       "    .dataframe tbody tr th {\n",
       "        vertical-align: top;\n",
       "    }\n",
       "\n",
       "    .dataframe thead th {\n",
       "        text-align: right;\n",
       "    }\n",
       "</style>\n",
       "<table border=\"1\" class=\"dataframe\">\n",
       "  <thead>\n",
       "    <tr style=\"text-align: right;\">\n",
       "      <th></th>\n",
       "      <th>diam</th>\n",
       "      <th>grav</th>\n",
       "      <th>orbit</th>\n",
       "      <th>spin</th>\n",
       "    </tr>\n",
       "    <tr>\n",
       "      <th>name</th>\n",
       "      <th></th>\n",
       "      <th></th>\n",
       "      <th></th>\n",
       "      <th></th>\n",
       "    </tr>\n",
       "  </thead>\n",
       "  <tbody>\n",
       "    <tr>\n",
       "      <th>Mercury</th>\n",
       "      <td>4878</td>\n",
       "      <td>0.38</td>\n",
       "      <td>88.00</td>\n",
       "      <td>59.00000</td>\n",
       "    </tr>\n",
       "    <tr>\n",
       "      <th>Venus</th>\n",
       "      <td>12104</td>\n",
       "      <td>0.90</td>\n",
       "      <td>224.00</td>\n",
       "      <td>243.00000</td>\n",
       "    </tr>\n",
       "    <tr>\n",
       "      <th>Earth</th>\n",
       "      <td>12756</td>\n",
       "      <td>1.00</td>\n",
       "      <td>365.25</td>\n",
       "      <td>0.99700</td>\n",
       "    </tr>\n",
       "    <tr>\n",
       "      <th>Mars</th>\n",
       "      <td>6794</td>\n",
       "      <td>0.38</td>\n",
       "      <td>687.00</td>\n",
       "      <td>1.02500</td>\n",
       "    </tr>\n",
       "    <tr>\n",
       "      <th>Jupiter</th>\n",
       "      <td>142984</td>\n",
       "      <td>2.64</td>\n",
       "      <td>4329.00</td>\n",
       "      <td>0.41300</td>\n",
       "    </tr>\n",
       "    <tr>\n",
       "      <th>Saturn</th>\n",
       "      <td>120536</td>\n",
       "      <td>1.16</td>\n",
       "      <td>10592.25</td>\n",
       "      <td>0.44375</td>\n",
       "    </tr>\n",
       "    <tr>\n",
       "      <th>Uranus</th>\n",
       "      <td>51118</td>\n",
       "      <td>1.11</td>\n",
       "      <td>30681.00</td>\n",
       "      <td>0.71805</td>\n",
       "    </tr>\n",
       "    <tr>\n",
       "      <th>Neptune</th>\n",
       "      <td>49532</td>\n",
       "      <td>1.21</td>\n",
       "      <td>60193.20</td>\n",
       "      <td>0.67153</td>\n",
       "    </tr>\n",
       "  </tbody>\n",
       "</table>\n",
       "</div>"
      ],
      "text/plain": [
       "           diam  grav     orbit       spin\n",
       "name                                      \n",
       "Mercury    4878  0.38     88.00   59.00000\n",
       "Venus     12104  0.90    224.00  243.00000\n",
       "Earth     12756  1.00    365.25    0.99700\n",
       "Mars       6794  0.38    687.00    1.02500\n",
       "Jupiter  142984  2.64   4329.00    0.41300\n",
       "Saturn   120536  1.16  10592.25    0.44375\n",
       "Uranus    51118  1.11  30681.00    0.71805\n",
       "Neptune   49532  1.21  60193.20    0.67153"
      ]
     },
     "execution_count": 6,
     "metadata": {},
     "output_type": "execute_result"
    }
   ],
   "source": [
    "planets_ndarray = planets.values # note: all columns\n",
    "planets_ndarray[1][2] = 5 # has no effect b/c the columns are not the same type.\n",
    "planets "
   ]
  },
  {
   "cell_type": "markdown",
   "metadata": {
    "slideshow": {
     "slide_type": "slide"
    }
   },
   "source": [
    "# The `.to_records()` Method\n",
    "The `.to_records()` method returns a NumPy `rec.array` with NumPy-style `dtype` specs. This can be handy for certain use cases where a `rec.array` is required."
   ]
  },
  {
   "cell_type": "code",
   "execution_count": 7,
   "metadata": {},
   "outputs": [
    {
     "data": {
      "text/plain": [
       "rec.array([('Mercury',   4878, 0.38,    88.  ,  59.     ),\n",
       "           ('Venus',  12104, 0.9 ,   224.  , 243.     ),\n",
       "           ('Earth',  12756, 1.  ,   365.25,   0.997  ),\n",
       "           ('Mars',   6794, 0.38,   687.  ,   1.025  ),\n",
       "           ('Jupiter', 142984, 2.64,  4329.  ,   0.413  ),\n",
       "           ('Saturn', 120536, 1.16, 10592.25,   0.44375),\n",
       "           ('Uranus',  51118, 1.11, 30681.  ,   0.71805),\n",
       "           ('Neptune',  49532, 1.21, 60193.2 ,   0.67153)],\n",
       "          dtype=[('name', 'O'), ('diam', '<i8'), ('grav', '<f8'), ('orbit', '<f8'), ('spin', '<f8')])"
      ]
     },
     "execution_count": 7,
     "metadata": {},
     "output_type": "execute_result"
    }
   ],
   "source": [
    "planets_recarray = planets.to_records()\n",
    "planets_recarray"
   ]
  },
  {
   "cell_type": "markdown",
   "metadata": {
    "slideshow": {
     "slide_type": "slide"
    }
   },
   "source": [
    "# pandas Functions and Methods\n",
    "## Useful extensions to Numpy"
   ]
  },
  {
   "cell_type": "markdown",
   "metadata": {
    "slideshow": {
     "slide_type": "slide"
    }
   },
   "source": [
    "# Descriptive Statistics\n",
    "NumPy includes lots of Universal Functions and methods to calculate things like means, moving averages, etc. Basically, if you can do something in Excel with a range of data, then you can likely find an equivalent in NumPy and, by extension, in pandas.\n",
    "\n",
    "pandas then provides even more flexible ways to use NumPy stats on Series and DataFrames. "
   ]
  },
  {
   "cell_type": "code",
   "execution_count": 8,
   "metadata": {
    "slideshow": {
     "slide_type": "subslide"
    }
   },
   "outputs": [
    {
     "data": {
      "text/plain": [
       "50087.75"
      ]
     },
     "execution_count": 8,
     "metadata": {},
     "output_type": "execute_result"
    }
   ],
   "source": [
    "# .mean() of a Series\n",
    "planets['diam'].mean()"
   ]
  },
  {
   "cell_type": "code",
   "execution_count": 9,
   "metadata": {
    "slideshow": {
     "slide_type": "fragment"
    }
   },
   "outputs": [
    {
     "data": {
      "text/html": [
       "<div>\n",
       "<style scoped>\n",
       "    .dataframe tbody tr th:only-of-type {\n",
       "        vertical-align: middle;\n",
       "    }\n",
       "\n",
       "    .dataframe tbody tr th {\n",
       "        vertical-align: top;\n",
       "    }\n",
       "\n",
       "    .dataframe thead th {\n",
       "        text-align: right;\n",
       "    }\n",
       "</style>\n",
       "<table border=\"1\" class=\"dataframe\">\n",
       "  <thead>\n",
       "    <tr style=\"text-align: right;\">\n",
       "      <th></th>\n",
       "      <th>diam</th>\n",
       "      <th>grav</th>\n",
       "      <th>orbit</th>\n",
       "      <th>spin</th>\n",
       "    </tr>\n",
       "  </thead>\n",
       "  <tbody>\n",
       "    <tr>\n",
       "      <th>count</th>\n",
       "      <td>8.000000</td>\n",
       "      <td>8.000000</td>\n",
       "      <td>8.000000</td>\n",
       "      <td>8.000000</td>\n",
       "    </tr>\n",
       "    <tr>\n",
       "      <th>mean</th>\n",
       "      <td>50087.750000</td>\n",
       "      <td>1.097500</td>\n",
       "      <td>13394.962500</td>\n",
       "      <td>38.283541</td>\n",
       "    </tr>\n",
       "    <tr>\n",
       "      <th>std</th>\n",
       "      <td>53916.250627</td>\n",
       "      <td>0.704491</td>\n",
       "      <td>21582.877545</td>\n",
       "      <td>85.195860</td>\n",
       "    </tr>\n",
       "    <tr>\n",
       "      <th>min</th>\n",
       "      <td>4878.000000</td>\n",
       "      <td>0.380000</td>\n",
       "      <td>88.000000</td>\n",
       "      <td>0.413000</td>\n",
       "    </tr>\n",
       "    <tr>\n",
       "      <th>25%</th>\n",
       "      <td>10776.500000</td>\n",
       "      <td>0.770000</td>\n",
       "      <td>329.937500</td>\n",
       "      <td>0.614585</td>\n",
       "    </tr>\n",
       "    <tr>\n",
       "      <th>50%</th>\n",
       "      <td>31144.000000</td>\n",
       "      <td>1.055000</td>\n",
       "      <td>2508.000000</td>\n",
       "      <td>0.857525</td>\n",
       "    </tr>\n",
       "    <tr>\n",
       "      <th>75%</th>\n",
       "      <td>68472.500000</td>\n",
       "      <td>1.172500</td>\n",
       "      <td>15614.437500</td>\n",
       "      <td>15.518750</td>\n",
       "    </tr>\n",
       "    <tr>\n",
       "      <th>max</th>\n",
       "      <td>142984.000000</td>\n",
       "      <td>2.640000</td>\n",
       "      <td>60193.200000</td>\n",
       "      <td>243.000000</td>\n",
       "    </tr>\n",
       "  </tbody>\n",
       "</table>\n",
       "</div>"
      ],
      "text/plain": [
       "                diam      grav         orbit        spin\n",
       "count       8.000000  8.000000      8.000000    8.000000\n",
       "mean    50087.750000  1.097500  13394.962500   38.283541\n",
       "std     53916.250627  0.704491  21582.877545   85.195860\n",
       "min      4878.000000  0.380000     88.000000    0.413000\n",
       "25%     10776.500000  0.770000    329.937500    0.614585\n",
       "50%     31144.000000  1.055000   2508.000000    0.857525\n",
       "75%     68472.500000  1.172500  15614.437500   15.518750\n",
       "max    142984.000000  2.640000  60193.200000  243.000000"
      ]
     },
     "execution_count": 9,
     "metadata": {},
     "output_type": "execute_result"
    }
   ],
   "source": [
    "# .describe() with mean, mode, ... for a DataFrame\n",
    "planets.describe()"
   ]
  },
  {
   "cell_type": "code",
   "execution_count": 10,
   "metadata": {
    "slideshow": {
     "slide_type": "subslide"
    }
   },
   "outputs": [
    {
     "data": {
      "text/plain": [
       "(0.169, 81.275]      7\n",
       "(162.138, 243.0]     1\n",
       "(81.275, 162.138]    0\n",
       "Name: spin, dtype: int64"
      ]
     },
     "execution_count": 10,
     "metadata": {},
     "output_type": "execute_result"
    }
   ],
   "source": [
    "# histogram counts for a Series\n",
    "planets['spin'].value_counts(bins=3)"
   ]
  },
  {
   "cell_type": "markdown",
   "metadata": {
    "slideshow": {
     "slide_type": "fragment"
    }
   },
   "source": [
    "**Need more stats? Just [RTFM](https://pandas.pydata.org/pandas-docs/stable/api.html#api-dataframe-stats)**"
   ]
  },
  {
   "cell_type": "markdown",
   "metadata": {
    "slideshow": {
     "slide_type": "slide"
    }
   },
   "source": [
    "# Selecting Just the Data You Need\n",
    "Usually, we will want to apply our stats to subsets of the data. \n",
    "\n",
    "For example:  \n",
    "Let's say we have a dataset with the waist-to-hip ratio and gender for every student at Fairfield University. (How would we get that? IDK.)\n",
    "While calculating the average w2h ratio over all students might be moderately interesting, **it would not be particularly useful**. "
   ]
  },
  {
   "cell_type": "markdown",
   "metadata": {
    "slideshow": {
     "slide_type": "fragment"
    }
   },
   "source": [
    "Instead we might want to \n",
    "- Compile histograms for male and female students\n",
    "- Compare waist-to-hip ratios of first semester freshmen with first semester sophomores (freshman 15, anyone?)\n",
    "- Segment the w2h data into categories that correlate to other medically-relevant health data. (Do tall people tend to have different w2h ratios from short people?)"
   ]
  },
  {
   "cell_type": "markdown",
   "metadata": {
    "slideshow": {
     "slide_type": "fragment"
    }
   },
   "source": [
    "**To do any of these things we need to slice and dice our data in ways that go well beyond what we can do in vanilla Python or Numpy.**"
   ]
  },
  {
   "cell_type": "markdown",
   "metadata": {
    "slideshow": {
     "slide_type": "slide"
    }
   },
   "source": [
    "# Four different ways to select data\n",
    "- Selecting and Slicing with `[]`\n",
    "- Selection with `.loc()` and `.iloc()`\n",
    "- Queries and other advanced selection techniques\n",
    "- Joins and other relational DB operations"
   ]
  },
  {
   "cell_type": "markdown",
   "metadata": {
    "slideshow": {
     "slide_type": "slide"
    }
   },
   "source": [
    "# Standard Selection with `[]`"
   ]
  },
  {
   "cell_type": "code",
   "execution_count": 11,
   "metadata": {
    "slideshow": {
     "slide_type": "fragment"
    }
   },
   "outputs": [
    {
     "data": {
      "text/html": [
       "<div>\n",
       "<style scoped>\n",
       "    .dataframe tbody tr th:only-of-type {\n",
       "        vertical-align: middle;\n",
       "    }\n",
       "\n",
       "    .dataframe tbody tr th {\n",
       "        vertical-align: top;\n",
       "    }\n",
       "\n",
       "    .dataframe thead th {\n",
       "        text-align: right;\n",
       "    }\n",
       "</style>\n",
       "<table border=\"1\" class=\"dataframe\">\n",
       "  <thead>\n",
       "    <tr style=\"text-align: right;\">\n",
       "      <th></th>\n",
       "      <th>diam</th>\n",
       "      <th>grav</th>\n",
       "      <th>orbit</th>\n",
       "      <th>spin</th>\n",
       "    </tr>\n",
       "    <tr>\n",
       "      <th>name</th>\n",
       "      <th></th>\n",
       "      <th></th>\n",
       "      <th></th>\n",
       "      <th></th>\n",
       "    </tr>\n",
       "  </thead>\n",
       "  <tbody>\n",
       "    <tr>\n",
       "      <th>Mercury</th>\n",
       "      <td>4878</td>\n",
       "      <td>0.38</td>\n",
       "      <td>88.0</td>\n",
       "      <td>59.0</td>\n",
       "    </tr>\n",
       "    <tr>\n",
       "      <th>Venus</th>\n",
       "      <td>12104</td>\n",
       "      <td>0.90</td>\n",
       "      <td>224.0</td>\n",
       "      <td>243.0</td>\n",
       "    </tr>\n",
       "  </tbody>\n",
       "</table>\n",
       "</div>"
      ],
      "text/plain": [
       "          diam  grav  orbit   spin\n",
       "name                              \n",
       "Mercury   4878  0.38   88.0   59.0\n",
       "Venus    12104  0.90  224.0  243.0"
      ]
     },
     "execution_count": 11,
     "metadata": {},
     "output_type": "execute_result"
    }
   ],
   "source": [
    "# Slicing by rows (like a list)\n",
    "planets[:2]"
   ]
  },
  {
   "cell_type": "code",
   "execution_count": 12,
   "metadata": {
    "slideshow": {
     "slide_type": "fragment"
    }
   },
   "outputs": [
    {
     "data": {
      "text/plain": [
       "name\n",
       "Mercury     4878\n",
       "Venus      12104\n",
       "Name: diam, dtype: int64"
      ]
     },
     "execution_count": 12,
     "metadata": {},
     "output_type": "execute_result"
    }
   ],
   "source": [
    "# Selection by columns (like a dictionary)\n",
    "planets['diam'][:2] # note that that's [Columns][Rows] "
   ]
  },
  {
   "cell_type": "markdown",
   "metadata": {
    "slideshow": {
     "slide_type": "slide"
    }
   },
   "source": [
    "# Selection with `.loc()` and `.iloc()` methods\n",
    "- `.loc()` is used to *select by labels*\n",
    "- `.iloc()` is used to *select by position*  \n",
    "- Both attributes use 2D slicing notation (with commas)  \n",
    "    `[from_row : to_row, from_col : to_col]`"
   ]
  },
  {
   "cell_type": "code",
   "execution_count": 13,
   "metadata": {
    "slideshow": {
     "slide_type": "subslide"
    }
   },
   "outputs": [
    {
     "data": {
      "text/html": [
       "<div>\n",
       "<style scoped>\n",
       "    .dataframe tbody tr th:only-of-type {\n",
       "        vertical-align: middle;\n",
       "    }\n",
       "\n",
       "    .dataframe tbody tr th {\n",
       "        vertical-align: top;\n",
       "    }\n",
       "\n",
       "    .dataframe thead th {\n",
       "        text-align: right;\n",
       "    }\n",
       "</style>\n",
       "<table border=\"1\" class=\"dataframe\">\n",
       "  <thead>\n",
       "    <tr style=\"text-align: right;\">\n",
       "      <th></th>\n",
       "      <th>diam</th>\n",
       "      <th>grav</th>\n",
       "      <th>orbit</th>\n",
       "    </tr>\n",
       "    <tr>\n",
       "      <th>name</th>\n",
       "      <th></th>\n",
       "      <th></th>\n",
       "      <th></th>\n",
       "    </tr>\n",
       "  </thead>\n",
       "  <tbody>\n",
       "    <tr>\n",
       "      <th>Venus</th>\n",
       "      <td>12104</td>\n",
       "      <td>0.90</td>\n",
       "      <td>224.00</td>\n",
       "    </tr>\n",
       "    <tr>\n",
       "      <th>Earth</th>\n",
       "      <td>12756</td>\n",
       "      <td>1.00</td>\n",
       "      <td>365.25</td>\n",
       "    </tr>\n",
       "    <tr>\n",
       "      <th>Mars</th>\n",
       "      <td>6794</td>\n",
       "      <td>0.38</td>\n",
       "      <td>687.00</td>\n",
       "    </tr>\n",
       "  </tbody>\n",
       "</table>\n",
       "</div>"
      ],
      "text/plain": [
       "        diam  grav   orbit\n",
       "name                      \n",
       "Venus  12104  0.90  224.00\n",
       "Earth  12756  1.00  365.25\n",
       "Mars    6794  0.38  687.00"
      ]
     },
     "execution_count": 13,
     "metadata": {},
     "output_type": "execute_result"
    }
   ],
   "source": [
    "# Select rows by labels and columns by names\n",
    "planets.loc['Venus':'Mars','diam':'orbit']"
   ]
  },
  {
   "cell_type": "code",
   "execution_count": 14,
   "metadata": {
    "slideshow": {
     "slide_type": "subslide"
    }
   },
   "outputs": [
    {
     "data": {
      "text/html": [
       "<div>\n",
       "<style scoped>\n",
       "    .dataframe tbody tr th:only-of-type {\n",
       "        vertical-align: middle;\n",
       "    }\n",
       "\n",
       "    .dataframe tbody tr th {\n",
       "        vertical-align: top;\n",
       "    }\n",
       "\n",
       "    .dataframe thead th {\n",
       "        text-align: right;\n",
       "    }\n",
       "</style>\n",
       "<table border=\"1\" class=\"dataframe\">\n",
       "  <thead>\n",
       "    <tr style=\"text-align: right;\">\n",
       "      <th></th>\n",
       "      <th>diam</th>\n",
       "      <th>grav</th>\n",
       "      <th>orbit</th>\n",
       "    </tr>\n",
       "    <tr>\n",
       "      <th>name</th>\n",
       "      <th></th>\n",
       "      <th></th>\n",
       "      <th></th>\n",
       "    </tr>\n",
       "  </thead>\n",
       "  <tbody>\n",
       "    <tr>\n",
       "      <th>Venus</th>\n",
       "      <td>12104</td>\n",
       "      <td>0.9</td>\n",
       "      <td>224.00</td>\n",
       "    </tr>\n",
       "    <tr>\n",
       "      <th>Earth</th>\n",
       "      <td>12756</td>\n",
       "      <td>1.0</td>\n",
       "      <td>365.25</td>\n",
       "    </tr>\n",
       "  </tbody>\n",
       "</table>\n",
       "</div>"
      ],
      "text/plain": [
       "        diam  grav   orbit\n",
       "name                      \n",
       "Venus  12104   0.9  224.00\n",
       "Earth  12756   1.0  365.25"
      ]
     },
     "execution_count": 14,
     "metadata": {},
     "output_type": "execute_result"
    }
   ],
   "source": [
    "# Select rows by position and columns by order\n",
    "planets.iloc[1:3,:3]"
   ]
  },
  {
   "cell_type": "markdown",
   "metadata": {
    "slideshow": {
     "slide_type": "slide"
    }
   },
   "source": [
    "# Advanced Selection Techniques\n",
    "Pandas includes lots of other functions and methods for subsets of 2D data sets. \n",
    "- Random sampling with `.sample()`\n",
    "- Boolean selections with `.query()`\n",
    "- In-place filtering with `.where()` and `.mask()`"
   ]
  },
  {
   "cell_type": "markdown",
   "metadata": {
    "slideshow": {
     "slide_type": "subslide"
    }
   },
   "source": [
    "# Random Sampling with `.sample()`\n",
    "To select (uniform) random rows from a DataFrame, just use the `.sample()` method. Every method call returns a new random sample. "
   ]
  },
  {
   "cell_type": "code",
   "execution_count": 15,
   "metadata": {},
   "outputs": [
    {
     "data": {
      "text/html": [
       "<div>\n",
       "<style scoped>\n",
       "    .dataframe tbody tr th:only-of-type {\n",
       "        vertical-align: middle;\n",
       "    }\n",
       "\n",
       "    .dataframe tbody tr th {\n",
       "        vertical-align: top;\n",
       "    }\n",
       "\n",
       "    .dataframe thead th {\n",
       "        text-align: right;\n",
       "    }\n",
       "</style>\n",
       "<table border=\"1\" class=\"dataframe\">\n",
       "  <thead>\n",
       "    <tr style=\"text-align: right;\">\n",
       "      <th></th>\n",
       "      <th>diam</th>\n",
       "      <th>grav</th>\n",
       "      <th>orbit</th>\n",
       "      <th>spin</th>\n",
       "    </tr>\n",
       "    <tr>\n",
       "      <th>name</th>\n",
       "      <th></th>\n",
       "      <th></th>\n",
       "      <th></th>\n",
       "      <th></th>\n",
       "    </tr>\n",
       "  </thead>\n",
       "  <tbody>\n",
       "    <tr>\n",
       "      <th>Mercury</th>\n",
       "      <td>4878</td>\n",
       "      <td>0.38</td>\n",
       "      <td>88.0</td>\n",
       "      <td>59.00000</td>\n",
       "    </tr>\n",
       "    <tr>\n",
       "      <th>Neptune</th>\n",
       "      <td>49532</td>\n",
       "      <td>1.21</td>\n",
       "      <td>60193.2</td>\n",
       "      <td>0.67153</td>\n",
       "    </tr>\n",
       "  </tbody>\n",
       "</table>\n",
       "</div>"
      ],
      "text/plain": [
       "          diam  grav    orbit      spin\n",
       "name                                   \n",
       "Mercury   4878  0.38     88.0  59.00000\n",
       "Neptune  49532  1.21  60193.2   0.67153"
      ]
     },
     "execution_count": 15,
     "metadata": {},
     "output_type": "execute_result"
    }
   ],
   "source": [
    "planets.sample(n=2)"
   ]
  },
  {
   "cell_type": "code",
   "execution_count": 16,
   "metadata": {},
   "outputs": [
    {
     "data": {
      "text/html": [
       "<div>\n",
       "<style scoped>\n",
       "    .dataframe tbody tr th:only-of-type {\n",
       "        vertical-align: middle;\n",
       "    }\n",
       "\n",
       "    .dataframe tbody tr th {\n",
       "        vertical-align: top;\n",
       "    }\n",
       "\n",
       "    .dataframe thead th {\n",
       "        text-align: right;\n",
       "    }\n",
       "</style>\n",
       "<table border=\"1\" class=\"dataframe\">\n",
       "  <thead>\n",
       "    <tr style=\"text-align: right;\">\n",
       "      <th></th>\n",
       "      <th>diam</th>\n",
       "      <th>grav</th>\n",
       "      <th>orbit</th>\n",
       "      <th>spin</th>\n",
       "    </tr>\n",
       "    <tr>\n",
       "      <th>name</th>\n",
       "      <th></th>\n",
       "      <th></th>\n",
       "      <th></th>\n",
       "      <th></th>\n",
       "    </tr>\n",
       "  </thead>\n",
       "  <tbody>\n",
       "    <tr>\n",
       "      <th>Neptune</th>\n",
       "      <td>49532</td>\n",
       "      <td>1.21</td>\n",
       "      <td>60193.2</td>\n",
       "      <td>0.67153</td>\n",
       "    </tr>\n",
       "    <tr>\n",
       "      <th>Mercury</th>\n",
       "      <td>4878</td>\n",
       "      <td>0.38</td>\n",
       "      <td>88.0</td>\n",
       "      <td>59.00000</td>\n",
       "    </tr>\n",
       "  </tbody>\n",
       "</table>\n",
       "</div>"
      ],
      "text/plain": [
       "          diam  grav    orbit      spin\n",
       "name                                   \n",
       "Neptune  49532  1.21  60193.2   0.67153\n",
       "Mercury   4878  0.38     88.0  59.00000"
      ]
     },
     "execution_count": 16,
     "metadata": {},
     "output_type": "execute_result"
    }
   ],
   "source": [
    "planets.sample(n=2)"
   ]
  },
  {
   "cell_type": "markdown",
   "metadata": {
    "slideshow": {
     "slide_type": "subslide"
    }
   },
   "source": [
    "# Boolean Selections with `.query()`\n",
    "You can select rows based on boolean expressions. You can even use expressions with multiple columns. In the expression just refer to each column by name."
   ]
  },
  {
   "cell_type": "code",
   "execution_count": 17,
   "metadata": {},
   "outputs": [
    {
     "data": {
      "text/html": [
       "<div>\n",
       "<style scoped>\n",
       "    .dataframe tbody tr th:only-of-type {\n",
       "        vertical-align: middle;\n",
       "    }\n",
       "\n",
       "    .dataframe tbody tr th {\n",
       "        vertical-align: top;\n",
       "    }\n",
       "\n",
       "    .dataframe thead th {\n",
       "        text-align: right;\n",
       "    }\n",
       "</style>\n",
       "<table border=\"1\" class=\"dataframe\">\n",
       "  <thead>\n",
       "    <tr style=\"text-align: right;\">\n",
       "      <th></th>\n",
       "      <th>diam</th>\n",
       "      <th>grav</th>\n",
       "      <th>orbit</th>\n",
       "      <th>spin</th>\n",
       "    </tr>\n",
       "    <tr>\n",
       "      <th>name</th>\n",
       "      <th></th>\n",
       "      <th></th>\n",
       "      <th></th>\n",
       "      <th></th>\n",
       "    </tr>\n",
       "  </thead>\n",
       "  <tbody>\n",
       "    <tr>\n",
       "      <th>Jupiter</th>\n",
       "      <td>142984</td>\n",
       "      <td>2.64</td>\n",
       "      <td>4329.00</td>\n",
       "      <td>0.41300</td>\n",
       "    </tr>\n",
       "    <tr>\n",
       "      <th>Saturn</th>\n",
       "      <td>120536</td>\n",
       "      <td>1.16</td>\n",
       "      <td>10592.25</td>\n",
       "      <td>0.44375</td>\n",
       "    </tr>\n",
       "    <tr>\n",
       "      <th>Uranus</th>\n",
       "      <td>51118</td>\n",
       "      <td>1.11</td>\n",
       "      <td>30681.00</td>\n",
       "      <td>0.71805</td>\n",
       "    </tr>\n",
       "    <tr>\n",
       "      <th>Neptune</th>\n",
       "      <td>49532</td>\n",
       "      <td>1.21</td>\n",
       "      <td>60193.20</td>\n",
       "      <td>0.67153</td>\n",
       "    </tr>\n",
       "  </tbody>\n",
       "</table>\n",
       "</div>"
      ],
      "text/plain": [
       "           diam  grav     orbit     spin\n",
       "name                                    \n",
       "Jupiter  142984  2.64   4329.00  0.41300\n",
       "Saturn   120536  1.16  10592.25  0.44375\n",
       "Uranus    51118  1.11  30681.00  0.71805\n",
       "Neptune   49532  1.21  60193.20  0.67153"
      ]
     },
     "execution_count": 17,
     "metadata": {},
     "output_type": "execute_result"
    }
   ],
   "source": [
    "planets.query('spin < 1 and orbit > 365.25')"
   ]
  },
  {
   "cell_type": "markdown",
   "metadata": {
    "slideshow": {
     "slide_type": "subslide"
    }
   },
   "source": [
    "# Element Filtering with `.where()` and `.mask()`\n",
    "Given a DataFrame of a given shape, `.where()` returns a DataFrame of the same shape except with `NaN` for any elements that don't fit the boolean expression."
   ]
  },
  {
   "cell_type": "code",
   "execution_count": 18,
   "metadata": {
    "slideshow": {
     "slide_type": "subslide"
    }
   },
   "outputs": [
    {
     "data": {
      "text/html": [
       "<div>\n",
       "<style scoped>\n",
       "    .dataframe tbody tr th:only-of-type {\n",
       "        vertical-align: middle;\n",
       "    }\n",
       "\n",
       "    .dataframe tbody tr th {\n",
       "        vertical-align: top;\n",
       "    }\n",
       "\n",
       "    .dataframe thead th {\n",
       "        text-align: right;\n",
       "    }\n",
       "</style>\n",
       "<table border=\"1\" class=\"dataframe\">\n",
       "  <thead>\n",
       "    <tr style=\"text-align: right;\">\n",
       "      <th></th>\n",
       "      <th>diam</th>\n",
       "      <th>grav</th>\n",
       "      <th>orbit</th>\n",
       "      <th>spin</th>\n",
       "    </tr>\n",
       "    <tr>\n",
       "      <th>name</th>\n",
       "      <th></th>\n",
       "      <th></th>\n",
       "      <th></th>\n",
       "      <th></th>\n",
       "    </tr>\n",
       "  </thead>\n",
       "  <tbody>\n",
       "    <tr>\n",
       "      <th>Mercury</th>\n",
       "      <td>4878.0</td>\n",
       "      <td>0.38</td>\n",
       "      <td>88.0</td>\n",
       "      <td>59.000</td>\n",
       "    </tr>\n",
       "    <tr>\n",
       "      <th>Venus</th>\n",
       "      <td>12104.0</td>\n",
       "      <td>0.90</td>\n",
       "      <td>224.0</td>\n",
       "      <td>243.000</td>\n",
       "    </tr>\n",
       "    <tr>\n",
       "      <th>Earth</th>\n",
       "      <td>NaN</td>\n",
       "      <td>NaN</td>\n",
       "      <td>NaN</td>\n",
       "      <td>NaN</td>\n",
       "    </tr>\n",
       "    <tr>\n",
       "      <th>Mars</th>\n",
       "      <td>6794.0</td>\n",
       "      <td>0.38</td>\n",
       "      <td>687.0</td>\n",
       "      <td>1.025</td>\n",
       "    </tr>\n",
       "    <tr>\n",
       "      <th>Jupiter</th>\n",
       "      <td>NaN</td>\n",
       "      <td>NaN</td>\n",
       "      <td>NaN</td>\n",
       "      <td>NaN</td>\n",
       "    </tr>\n",
       "    <tr>\n",
       "      <th>Saturn</th>\n",
       "      <td>NaN</td>\n",
       "      <td>NaN</td>\n",
       "      <td>NaN</td>\n",
       "      <td>NaN</td>\n",
       "    </tr>\n",
       "    <tr>\n",
       "      <th>Uranus</th>\n",
       "      <td>NaN</td>\n",
       "      <td>NaN</td>\n",
       "      <td>NaN</td>\n",
       "      <td>NaN</td>\n",
       "    </tr>\n",
       "    <tr>\n",
       "      <th>Neptune</th>\n",
       "      <td>NaN</td>\n",
       "      <td>NaN</td>\n",
       "      <td>NaN</td>\n",
       "      <td>NaN</td>\n",
       "    </tr>\n",
       "  </tbody>\n",
       "</table>\n",
       "</div>"
      ],
      "text/plain": [
       "            diam  grav  orbit     spin\n",
       "name                                  \n",
       "Mercury   4878.0  0.38   88.0   59.000\n",
       "Venus    12104.0  0.90  224.0  243.000\n",
       "Earth        NaN   NaN    NaN      NaN\n",
       "Mars      6794.0  0.38  687.0    1.025\n",
       "Jupiter      NaN   NaN    NaN      NaN\n",
       "Saturn       NaN   NaN    NaN      NaN\n",
       "Uranus       NaN   NaN    NaN      NaN\n",
       "Neptune      NaN   NaN    NaN      NaN"
      ]
     },
     "execution_count": 18,
     "metadata": {},
     "output_type": "execute_result"
    }
   ],
   "source": [
    "planets.where(planets['spin'] > 1) # keep the rows with spin > 1"
   ]
  },
  {
   "cell_type": "markdown",
   "metadata": {
    "slideshow": {
     "slide_type": "subslide"
    }
   },
   "source": [
    "`.mask()` is the complement (reverse) of `.where()`, with `NaN` for all elements that fit the boolean expression. "
   ]
  },
  {
   "cell_type": "code",
   "execution_count": 19,
   "metadata": {},
   "outputs": [
    {
     "data": {
      "text/html": [
       "<div>\n",
       "<style scoped>\n",
       "    .dataframe tbody tr th:only-of-type {\n",
       "        vertical-align: middle;\n",
       "    }\n",
       "\n",
       "    .dataframe tbody tr th {\n",
       "        vertical-align: top;\n",
       "    }\n",
       "\n",
       "    .dataframe thead th {\n",
       "        text-align: right;\n",
       "    }\n",
       "</style>\n",
       "<table border=\"1\" class=\"dataframe\">\n",
       "  <thead>\n",
       "    <tr style=\"text-align: right;\">\n",
       "      <th></th>\n",
       "      <th>diam</th>\n",
       "      <th>grav</th>\n",
       "      <th>orbit</th>\n",
       "      <th>spin</th>\n",
       "    </tr>\n",
       "    <tr>\n",
       "      <th>name</th>\n",
       "      <th></th>\n",
       "      <th></th>\n",
       "      <th></th>\n",
       "      <th></th>\n",
       "    </tr>\n",
       "  </thead>\n",
       "  <tbody>\n",
       "    <tr>\n",
       "      <th>Mercury</th>\n",
       "      <td>NaN</td>\n",
       "      <td>NaN</td>\n",
       "      <td>NaN</td>\n",
       "      <td>NaN</td>\n",
       "    </tr>\n",
       "    <tr>\n",
       "      <th>Venus</th>\n",
       "      <td>NaN</td>\n",
       "      <td>NaN</td>\n",
       "      <td>NaN</td>\n",
       "      <td>NaN</td>\n",
       "    </tr>\n",
       "    <tr>\n",
       "      <th>Earth</th>\n",
       "      <td>12756.0</td>\n",
       "      <td>1.00</td>\n",
       "      <td>365.25</td>\n",
       "      <td>0.99700</td>\n",
       "    </tr>\n",
       "    <tr>\n",
       "      <th>Mars</th>\n",
       "      <td>NaN</td>\n",
       "      <td>NaN</td>\n",
       "      <td>NaN</td>\n",
       "      <td>NaN</td>\n",
       "    </tr>\n",
       "    <tr>\n",
       "      <th>Jupiter</th>\n",
       "      <td>142984.0</td>\n",
       "      <td>2.64</td>\n",
       "      <td>4329.00</td>\n",
       "      <td>0.41300</td>\n",
       "    </tr>\n",
       "    <tr>\n",
       "      <th>Saturn</th>\n",
       "      <td>120536.0</td>\n",
       "      <td>1.16</td>\n",
       "      <td>10592.25</td>\n",
       "      <td>0.44375</td>\n",
       "    </tr>\n",
       "    <tr>\n",
       "      <th>Uranus</th>\n",
       "      <td>51118.0</td>\n",
       "      <td>1.11</td>\n",
       "      <td>30681.00</td>\n",
       "      <td>0.71805</td>\n",
       "    </tr>\n",
       "    <tr>\n",
       "      <th>Neptune</th>\n",
       "      <td>49532.0</td>\n",
       "      <td>1.21</td>\n",
       "      <td>60193.20</td>\n",
       "      <td>0.67153</td>\n",
       "    </tr>\n",
       "  </tbody>\n",
       "</table>\n",
       "</div>"
      ],
      "text/plain": [
       "             diam  grav     orbit     spin\n",
       "name                                      \n",
       "Mercury       NaN   NaN       NaN      NaN\n",
       "Venus         NaN   NaN       NaN      NaN\n",
       "Earth     12756.0  1.00    365.25  0.99700\n",
       "Mars          NaN   NaN       NaN      NaN\n",
       "Jupiter  142984.0  2.64   4329.00  0.41300\n",
       "Saturn   120536.0  1.16  10592.25  0.44375\n",
       "Uranus    51118.0  1.11  30681.00  0.71805\n",
       "Neptune   49532.0  1.21  60193.20  0.67153"
      ]
     },
     "execution_count": 19,
     "metadata": {},
     "output_type": "execute_result"
    }
   ],
   "source": [
    "planets.mask(planets['spin'] > 1) # keep the rows with spin <= 1"
   ]
  },
  {
   "cell_type": "markdown",
   "metadata": {
    "slideshow": {
     "slide_type": "slide"
    }
   },
   "source": [
    "# Database-Style DataFrame Joins\n",
    "What if we need to cross-reference rows in one DataFrame with rows in another DataFrame?  \n",
    "\n",
    "The `merge()` function returns a SQL-style join on two DataFrames.\n",
    "- inner join, left outer join, right outer join, etc. \n",
    "- where is implemented with slicing, loc, iloc, etc."
   ]
  },
  {
   "cell_type": "code",
   "execution_count": 20,
   "metadata": {
    "slideshow": {
     "slide_type": "subslide"
    }
   },
   "outputs": [
    {
     "data": {
      "text/html": [
       "<div>\n",
       "<style scoped>\n",
       "    .dataframe tbody tr th:only-of-type {\n",
       "        vertical-align: middle;\n",
       "    }\n",
       "\n",
       "    .dataframe tbody tr th {\n",
       "        vertical-align: top;\n",
       "    }\n",
       "\n",
       "    .dataframe thead th {\n",
       "        text-align: right;\n",
       "    }\n",
       "</style>\n",
       "<table border=\"1\" class=\"dataframe\">\n",
       "  <thead>\n",
       "    <tr style=\"text-align: right;\">\n",
       "      <th></th>\n",
       "      <th>pop</th>\n",
       "    </tr>\n",
       "  </thead>\n",
       "  <tbody>\n",
       "    <tr>\n",
       "      <th>Earth</th>\n",
       "      <td>7500000000</td>\n",
       "    </tr>\n",
       "  </tbody>\n",
       "</table>\n",
       "</div>"
      ],
      "text/plain": [
       "              pop\n",
       "Earth  7500000000"
      ]
     },
     "execution_count": 20,
     "metadata": {},
     "output_type": "execute_result"
    }
   ],
   "source": [
    "population = pd.DataFrame({'pop':{'Earth':7500000000}})\n",
    "population"
   ]
  },
  {
   "cell_type": "code",
   "execution_count": 21,
   "metadata": {},
   "outputs": [
    {
     "data": {
      "text/html": [
       "<div>\n",
       "<style scoped>\n",
       "    .dataframe tbody tr th:only-of-type {\n",
       "        vertical-align: middle;\n",
       "    }\n",
       "\n",
       "    .dataframe tbody tr th {\n",
       "        vertical-align: top;\n",
       "    }\n",
       "\n",
       "    .dataframe thead th {\n",
       "        text-align: right;\n",
       "    }\n",
       "</style>\n",
       "<table border=\"1\" class=\"dataframe\">\n",
       "  <thead>\n",
       "    <tr style=\"text-align: right;\">\n",
       "      <th></th>\n",
       "      <th>diam</th>\n",
       "      <th>grav</th>\n",
       "      <th>orbit</th>\n",
       "      <th>spin</th>\n",
       "      <th>pop</th>\n",
       "    </tr>\n",
       "    <tr>\n",
       "      <th>name</th>\n",
       "      <th></th>\n",
       "      <th></th>\n",
       "      <th></th>\n",
       "      <th></th>\n",
       "      <th></th>\n",
       "    </tr>\n",
       "  </thead>\n",
       "  <tbody>\n",
       "    <tr>\n",
       "      <th>Earth</th>\n",
       "      <td>12756</td>\n",
       "      <td>1.0</td>\n",
       "      <td>365.25</td>\n",
       "      <td>0.997</td>\n",
       "      <td>7500000000</td>\n",
       "    </tr>\n",
       "  </tbody>\n",
       "</table>\n",
       "</div>"
      ],
      "text/plain": [
       "        diam  grav   orbit   spin         pop\n",
       "name                                         \n",
       "Earth  12756   1.0  365.25  0.997  7500000000"
      ]
     },
     "execution_count": 21,
     "metadata": {},
     "output_type": "execute_result"
    }
   ],
   "source": [
    "pd.merge(planets,population,left_on='name',right_index=True)"
   ]
  },
  {
   "cell_type": "markdown",
   "metadata": {
    "slideshow": {
     "slide_type": "subslide"
    }
   },
   "source": [
    "In many cass we can use the `.join()` method to get a more convenient, SQL-like syntax. "
   ]
  },
  {
   "cell_type": "code",
   "execution_count": 22,
   "metadata": {},
   "outputs": [
    {
     "data": {
      "text/html": [
       "<div>\n",
       "<style scoped>\n",
       "    .dataframe tbody tr th:only-of-type {\n",
       "        vertical-align: middle;\n",
       "    }\n",
       "\n",
       "    .dataframe tbody tr th {\n",
       "        vertical-align: top;\n",
       "    }\n",
       "\n",
       "    .dataframe thead th {\n",
       "        text-align: right;\n",
       "    }\n",
       "</style>\n",
       "<table border=\"1\" class=\"dataframe\">\n",
       "  <thead>\n",
       "    <tr style=\"text-align: right;\">\n",
       "      <th></th>\n",
       "      <th>diam</th>\n",
       "      <th>grav</th>\n",
       "      <th>orbit</th>\n",
       "      <th>spin</th>\n",
       "      <th>pop</th>\n",
       "    </tr>\n",
       "  </thead>\n",
       "  <tbody>\n",
       "    <tr>\n",
       "      <th>Earth</th>\n",
       "      <td>12756</td>\n",
       "      <td>1.0</td>\n",
       "      <td>365.25</td>\n",
       "      <td>0.997</td>\n",
       "      <td>7500000000</td>\n",
       "    </tr>\n",
       "  </tbody>\n",
       "</table>\n",
       "</div>"
      ],
      "text/plain": [
       "        diam  grav   orbit   spin         pop\n",
       "Earth  12756   1.0  365.25  0.997  7500000000"
      ]
     },
     "execution_count": 22,
     "metadata": {},
     "output_type": "execute_result"
    }
   ],
   "source": [
    "planets.join(population,how='inner') # an inner join"
   ]
  },
  {
   "cell_type": "code",
   "execution_count": 23,
   "metadata": {
    "slideshow": {
     "slide_type": "subslide"
    }
   },
   "outputs": [
    {
     "data": {
      "text/html": [
       "<div>\n",
       "<style scoped>\n",
       "    .dataframe tbody tr th:only-of-type {\n",
       "        vertical-align: middle;\n",
       "    }\n",
       "\n",
       "    .dataframe tbody tr th {\n",
       "        vertical-align: top;\n",
       "    }\n",
       "\n",
       "    .dataframe thead th {\n",
       "        text-align: right;\n",
       "    }\n",
       "</style>\n",
       "<table border=\"1\" class=\"dataframe\">\n",
       "  <thead>\n",
       "    <tr style=\"text-align: right;\">\n",
       "      <th></th>\n",
       "      <th>diam</th>\n",
       "      <th>grav</th>\n",
       "      <th>orbit</th>\n",
       "      <th>spin</th>\n",
       "      <th>pop</th>\n",
       "    </tr>\n",
       "    <tr>\n",
       "      <th>name</th>\n",
       "      <th></th>\n",
       "      <th></th>\n",
       "      <th></th>\n",
       "      <th></th>\n",
       "      <th></th>\n",
       "    </tr>\n",
       "  </thead>\n",
       "  <tbody>\n",
       "    <tr>\n",
       "      <th>Mercury</th>\n",
       "      <td>4878</td>\n",
       "      <td>0.38</td>\n",
       "      <td>88.00</td>\n",
       "      <td>59.00000</td>\n",
       "      <td>NaN</td>\n",
       "    </tr>\n",
       "    <tr>\n",
       "      <th>Venus</th>\n",
       "      <td>12104</td>\n",
       "      <td>0.90</td>\n",
       "      <td>224.00</td>\n",
       "      <td>243.00000</td>\n",
       "      <td>NaN</td>\n",
       "    </tr>\n",
       "    <tr>\n",
       "      <th>Earth</th>\n",
       "      <td>12756</td>\n",
       "      <td>1.00</td>\n",
       "      <td>365.25</td>\n",
       "      <td>0.99700</td>\n",
       "      <td>7.500000e+09</td>\n",
       "    </tr>\n",
       "    <tr>\n",
       "      <th>Mars</th>\n",
       "      <td>6794</td>\n",
       "      <td>0.38</td>\n",
       "      <td>687.00</td>\n",
       "      <td>1.02500</td>\n",
       "      <td>NaN</td>\n",
       "    </tr>\n",
       "    <tr>\n",
       "      <th>Jupiter</th>\n",
       "      <td>142984</td>\n",
       "      <td>2.64</td>\n",
       "      <td>4329.00</td>\n",
       "      <td>0.41300</td>\n",
       "      <td>NaN</td>\n",
       "    </tr>\n",
       "    <tr>\n",
       "      <th>Saturn</th>\n",
       "      <td>120536</td>\n",
       "      <td>1.16</td>\n",
       "      <td>10592.25</td>\n",
       "      <td>0.44375</td>\n",
       "      <td>NaN</td>\n",
       "    </tr>\n",
       "    <tr>\n",
       "      <th>Uranus</th>\n",
       "      <td>51118</td>\n",
       "      <td>1.11</td>\n",
       "      <td>30681.00</td>\n",
       "      <td>0.71805</td>\n",
       "      <td>NaN</td>\n",
       "    </tr>\n",
       "    <tr>\n",
       "      <th>Neptune</th>\n",
       "      <td>49532</td>\n",
       "      <td>1.21</td>\n",
       "      <td>60193.20</td>\n",
       "      <td>0.67153</td>\n",
       "      <td>NaN</td>\n",
       "    </tr>\n",
       "  </tbody>\n",
       "</table>\n",
       "</div>"
      ],
      "text/plain": [
       "           diam  grav     orbit       spin           pop\n",
       "name                                                    \n",
       "Mercury    4878  0.38     88.00   59.00000           NaN\n",
       "Venus     12104  0.90    224.00  243.00000           NaN\n",
       "Earth     12756  1.00    365.25    0.99700  7.500000e+09\n",
       "Mars       6794  0.38    687.00    1.02500           NaN\n",
       "Jupiter  142984  2.64   4329.00    0.41300           NaN\n",
       "Saturn   120536  1.16  10592.25    0.44375           NaN\n",
       "Uranus    51118  1.11  30681.00    0.71805           NaN\n",
       "Neptune   49532  1.21  60193.20    0.67153           NaN"
      ]
     },
     "execution_count": 23,
     "metadata": {},
     "output_type": "execute_result"
    }
   ],
   "source": [
    "planets.join(population,how='left') # a left join"
   ]
  },
  {
   "cell_type": "code",
   "execution_count": 24,
   "metadata": {
    "slideshow": {
     "slide_type": "subslide"
    }
   },
   "outputs": [
    {
     "data": {
      "text/html": [
       "<div>\n",
       "<style scoped>\n",
       "    .dataframe tbody tr th:only-of-type {\n",
       "        vertical-align: middle;\n",
       "    }\n",
       "\n",
       "    .dataframe tbody tr th {\n",
       "        vertical-align: top;\n",
       "    }\n",
       "\n",
       "    .dataframe thead th {\n",
       "        text-align: right;\n",
       "    }\n",
       "</style>\n",
       "<table border=\"1\" class=\"dataframe\">\n",
       "  <thead>\n",
       "    <tr style=\"text-align: right;\">\n",
       "      <th></th>\n",
       "      <th>diam</th>\n",
       "      <th>grav</th>\n",
       "      <th>orbit</th>\n",
       "      <th>spin</th>\n",
       "      <th>pop</th>\n",
       "    </tr>\n",
       "  </thead>\n",
       "  <tbody>\n",
       "    <tr>\n",
       "      <th>Earth</th>\n",
       "      <td>12756</td>\n",
       "      <td>1.0</td>\n",
       "      <td>365.25</td>\n",
       "      <td>0.997</td>\n",
       "      <td>7500000000</td>\n",
       "    </tr>\n",
       "  </tbody>\n",
       "</table>\n",
       "</div>"
      ],
      "text/plain": [
       "        diam  grav   orbit   spin         pop\n",
       "Earth  12756   1.0  365.25  0.997  7500000000"
      ]
     },
     "execution_count": 24,
     "metadata": {},
     "output_type": "execute_result"
    }
   ],
   "source": [
    "planets.join(population,how='right') # a right join"
   ]
  },
  {
   "cell_type": "markdown",
   "metadata": {
    "slideshow": {
     "slide_type": "slide"
    }
   },
   "source": [
    "# Working with Time Series Data\n",
    "## With an assist from Pandas\n",
    "\n",
    "Ref: https://pandas.pydata.org/pandas-docs/stable/timeseries.html"
   ]
  },
  {
   "cell_type": "markdown",
   "metadata": {
    "slideshow": {
     "slide_type": "slide"
    }
   },
   "source": [
    "# The `datetime` Module\n",
    "Standard library’s `datetime` module knows all about dates and times."
   ]
  },
  {
   "cell_type": "code",
   "execution_count": 25,
   "metadata": {},
   "outputs": [
    {
     "name": "stdout",
     "output_type": "stream",
     "text": [
      "2018-10-28\n",
      "2018-10-28 19:50:39.204352\n"
     ]
    }
   ],
   "source": [
    "from datetime import date, datetime\n",
    "print(date.today())    # today's date\n",
    "print(datetime.now())  # the current time"
   ]
  },
  {
   "cell_type": "markdown",
   "metadata": {},
   "source": [
    "Ref: https://docs.python.org/3/library/datetime.html#module-datetime"
   ]
  },
  {
   "cell_type": "markdown",
   "metadata": {
    "slideshow": {
     "slide_type": "slide"
    }
   },
   "source": [
    "# The `time` Module\n",
    "The standard `time` module handles time arithmetic, timezones, formatting, etc. Try not to get it confused with `datetime.time`.  \n",
    "Fun fact: Time is stored as a floating point number, the number of seconds since midnight of January 1, 1970."
   ]
  },
  {
   "cell_type": "code",
   "execution_count": 26,
   "metadata": {},
   "outputs": [
    {
     "data": {
      "text/plain": [
       "1540770639.2126908"
      ]
     },
     "execution_count": 26,
     "metadata": {},
     "output_type": "execute_result"
    }
   ],
   "source": [
    "import time\n",
    "time.time() # the current time"
   ]
  },
  {
   "cell_type": "markdown",
   "metadata": {},
   "source": [
    "Neat, eh? However, **most of the time you probably want `datetime.time`.**  \n",
    "\n",
    "Ref: https://docs.python.org/3/library/time.html"
   ]
  },
  {
   "cell_type": "markdown",
   "metadata": {
    "slideshow": {
     "slide_type": "slide"
    }
   },
   "source": [
    "# Time Series in pandas\n",
    "Pandas arrays (Series or DataFrame) can be indexed using `timestamp`s instead of numbers or string labels. That makes slicing and dicing time pretty easy."
   ]
  },
  {
   "cell_type": "code",
   "execution_count": 28,
   "metadata": {},
   "outputs": [
    {
     "data": {
      "text/plain": [
       "2017-09-18    158.67\n",
       "2017-09-19    158.73\n",
       "2017-09-20    156.07\n",
       "2017-09-21    153.39\n",
       "2017-09-22    151.89\n",
       "Freq: D, dtype: float64"
      ]
     },
     "execution_count": 28,
     "metadata": {},
     "output_type": "execute_result"
    }
   ],
   "source": [
    "aapl_5d = pd.Series(\n",
    "    [158.67,158.73,156.07,153.39,151.89],\n",
    "    index=pd.date_range('2017-9-18',periods=5,freq='D')) "
   ]
  },
  {
   "cell_type": "markdown",
   "metadata": {},
   "source": [
    "Note that `pd.date_range()` works just like `range()` but with `datetimes` instead of integers.  \n",
    "Ref: https://pandas.pydata.org/pandas-docs/stable/timeseries.html"
   ]
  },
  {
   "cell_type": "markdown",
   "metadata": {
    "slideshow": {
     "slide_type": "slide"
    }
   },
   "source": [
    "# The `DatetimeIndex` Type\n",
    "When a date range is used as an index, pandas automatically converts it to a `DatetimeIndex`."
   ]
  },
  {
   "cell_type": "code",
   "execution_count": 29,
   "metadata": {},
   "outputs": [
    {
     "data": {
      "text/plain": [
       "DatetimeIndex(['2017-09-18', '2017-09-19', '2017-09-20', '2017-09-21',\n",
       "               '2017-09-22'],\n",
       "              dtype='datetime64[ns]', freq='D')"
      ]
     },
     "execution_count": 29,
     "metadata": {},
     "output_type": "execute_result"
    }
   ],
   "source": [
    "aapl_5d.index"
   ]
  },
  {
   "cell_type": "markdown",
   "metadata": {},
   "source": [
    "Note that the datetime is kept in nanoseconds."
   ]
  },
  {
   "cell_type": "markdown",
   "metadata": {
    "slideshow": {
     "slide_type": "slide"
    }
   },
   "source": [
    "# Time Series Slicing\n",
    "`DatetimeIndex` is optimized for slicing date ranges. "
   ]
  },
  {
   "cell_type": "code",
   "execution_count": 31,
   "metadata": {},
   "outputs": [
    {
     "data": {
      "text/plain": [
       "2017-09-18    158.67\n",
       "2017-09-19    158.73\n",
       "2017-09-20    156.07\n",
       "Freq: D, dtype: float64"
      ]
     },
     "execution_count": 31,
     "metadata": {},
     "output_type": "execute_result"
    }
   ],
   "source": [
    "aapl_5d[:'2017-09-20'] # all data up to and including 2017-09-20"
   ]
  },
  {
   "cell_type": "code",
   "execution_count": 33,
   "metadata": {},
   "outputs": [
    {
     "data": {
      "text/plain": [
       "2017-09-20    156.07\n",
       "2017-09-21    153.39\n",
       "2017-09-22    151.89\n",
       "Freq: D, dtype: float64"
      ]
     },
     "execution_count": 33,
     "metadata": {},
     "output_type": "execute_result"
    }
   ],
   "source": [
    "aapl_5d['2017-09-20':] # all data after and including 2017-09-20"
   ]
  },
  {
   "cell_type": "markdown",
   "metadata": {},
   "source": [
    "Note: Dates strings are treated like labels, so time series slices include both end points."
   ]
  },
  {
   "cell_type": "markdown",
   "metadata": {
    "slideshow": {
     "slide_type": "slide"
    }
   },
   "source": [
    "# It really is that easy\n",
    "Everything we've learned about handling indexed data in pandas works just fine with time series. You just have to get it into a Series or DataFrame first. "
   ]
  },
  {
   "cell_type": "markdown",
   "metadata": {
    "slideshow": {
     "slide_type": "slide"
    }
   },
   "source": [
    "# One More Thing \n",
    "pandas makes time series plots trivially easy."
   ]
  },
  {
   "cell_type": "code",
   "execution_count": 39,
   "metadata": {},
   "outputs": [
    {
     "data": {
      "text/plain": [
       "<matplotlib.axes._subplots.AxesSubplot at 0x11ffc1470>"
      ]
     },
     "execution_count": 39,
     "metadata": {},
     "output_type": "execute_result"
    },
    {
     "data": {
      "image/png": "[encoded data removed]",
      "text/plain": [
       "<Figure size 432x288 with 1 Axes>"
      ]
     },
     "metadata": {},
     "output_type": "display_data"
    }
   ],
   "source": [
    "aapl_5d.plot() "
   ]
  },
  {
   "cell_type": "markdown",
   "metadata": {},
   "source": [
    "`.plot()` is a nice wrapper around `pyplot.plot` from Matplotib, which we'll see next week.     \n",
    "Ref: http://pandas.pydata.org/pandas-docs/version/0.13/visualization.html"
   ]
  },
  {
   "cell_type": "markdown",
   "metadata": {},
   "source": [
    "# Classwork (Start here in class)\n",
    "- Course Schedule Part 3\n",
    "- Health Stats Part 4\n",
    "- If time permits, start in on your homework \n",
    "\n",
    "# Homework (Do at home)\n",
    "The following is due before class next week:\n",
    "- Any remaining classwork from tonight\n",
    "- DataCamp: \"Logic, Control Flow, and Filtering\" and the \"Loops\" chapters\n",
    "- Study for Quiz 4 (Pandas and Numpy)\n",
    "    - Suggestion: read any documentation linked on the slides from the last three weeks\n",
    "\n",
    "Please email chuntley@fairfield.edu if you have any problems or questions."
   ]
  },
  {
   "cell_type": "code",
   "execution_count": null,
   "metadata": {},
   "outputs": [],
   "source": []
  }
 ],
 "metadata": {
  "kernelspec": {
   "display_name": "Python 3",
   "language": "python",
   "name": "python3"
  },
  "language_info": {
   "codemirror_mode": {
    "name": "ipython",
    "version": 3
   },
   "file_extension": ".py",
   "mimetype": "text/x-python",
   "name": "python",
   "nbconvert_exporter": "python",
   "pygments_lexer": "ipython3",
   "version": "3.6.6"
  }
 },
 "nbformat": 4,
 "nbformat_minor": 2
}
