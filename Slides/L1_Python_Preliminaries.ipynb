{
 "cells": [
  {
   "cell_type": "markdown",
   "metadata": {
    "slideshow": {
     "slide_type": "slide"
    }
   },
   "source": [
    "![DSB Logo](img/Dolan.jpg)\n",
    "# Preliminaries\n",
    "\n",
    "## RSI Chapters 1 and 2\n",
    "### Concepts you should know before your first program"
   ]
  },
  {
   "cell_type": "markdown",
   "metadata": {
    "slideshow": {
     "slide_type": "slide"
    }
   },
   "source": [
    "# Learning Objectives\n",
    "\n",
    "## Theory / Be able to explain ...\n",
    "\n",
    "- General programming terms like source code, interpreter, compiler, object code, comment, data type, etc.\n",
    "- Basic Python syntax and structure, including statements, variables, expressions, operators, and functions\n",
    "- The different types of errors that require debugging\n",
    "\n",
    "## Skills / Know how to  ...\n",
    "\n",
    "- Run Python statements in the command line interpreter\n",
    "- Use variables to store, retrieve, and update values\n",
    "- Evaluate arithmetic and string expressions\n"
   ]
  },
  {
   "cell_type": "markdown",
   "metadata": {
    "slideshow": {
     "slide_type": "slide"
    }
   },
   "source": [
    "# The Python Programming Environment\n",
    "\n",
    "## A Tour with Examples in JupyterLab"
   ]
  },
  {
   "cell_type": "markdown",
   "metadata": {
    "slideshow": {
     "slide_type": "slide"
    }
   },
   "source": [
    "# Python Language Origins\n",
    "- Python is a high-level *scripting* language, originally intended for short programs that run from the command line.\n",
    "- Timeline:\n",
    "    - 1980’s: early development by Guido Van Rossum\n",
    "    - 1994: Python 1.0, the first complete release\n",
    "    - 2000: Python 2.0 added advanced data types and core object-orientation (‘everything is an object’)\n",
    "    - 2008: Python 3.0 broke backwards compatibility to streamline and unify language syntax and libraries\n"
   ]
  },
  {
   "cell_type": "markdown",
   "metadata": {
    "slideshow": {
     "slide_type": "slide"
    }
   },
   "source": [
    "# Python 2 vs Python 3\n",
    "\n",
    "- Plenty of Python libraries (reusable programs) in use today were originally written before 2008\n",
    "    - While most libraries have updated to Python 3, some remain stuck in Python 2\n",
    "- **We will be learning Python 3** in this class\n",
    "    - However, you may be asked to use Python 2 in some of your future analytics classes and on the job\n",
    "    - Fortunately, the switch is pretty easy once you know what you are doing\n"
   ]
  },
  {
   "cell_type": "markdown",
   "metadata": {
    "slideshow": {
     "slide_type": "slide"
    }
   },
   "source": [
    "# Source Code, Compilers, and Interpreters\n",
    "\n",
    "- Python is a high-level language like C, Java, or C# \n",
    "    - Written and read by humans as **source code** (scripts or programs)\n",
    "    - Has to be converted into low-level **object code** (not human-readable, like .exe files) that the computer uses natively\n",
    "- Two ways to convert from source code (programs) to object code (machine code):\n",
    "    - **Compilers** (used by C, Java, C#, etc.) convert it all at once, requiring all source code to be written in advance\n",
    "    - **Interpreters** convert the code one line at a time, allowing the source code to be written interactively\n",
    "- Python can work *either way*, compiled in advance (for speed) or interpretted as needed (for flexibility)"
   ]
  },
  {
   "cell_type": "markdown",
   "metadata": {
    "slideshow": {
     "slide_type": "slide"
    }
   },
   "source": [
    "# Python Interpreter Example\n",
    "\n",
    "- Most Python programs are executed via interpreter\n",
    "- JupyterLab supports the interpreter in three ways:\n",
    "    - Via Terminal session\n",
    "    - Via IPython console\n",
    "    - Via Notebook code cells\n",
    "- Here's an old-school terminal session from in 2006:\n",
    "  ![Terminal Session](img/L1_terminal.png)"
   ]
  },
  {
   "cell_type": "markdown",
   "metadata": {
    "slideshow": {
     "slide_type": "slide"
    }
   },
   "source": [
    "# JupyterLab Terminal Session\n",
    "\n",
    "0. Fire up JupyterLab if you haven't already.\n",
    "1. In JupyterLab's \"Launcher\" panel, select \"Terminal\" in the \"Other\" menu at the bottom. \n",
    "2. A terminal shell will open on a new tab. \n",
    "    - On MacOS, the terminal will be `bash`\n",
    "    - On Windows, the terminal is likely to be `Command prompt`\n",
    "3. Enter `python` to get an old-fashioned python interpreter\n",
    "4. Type \n",
    "    ```python\n",
    "    print('Hello')\n",
    "    ``` \n",
    "and hit return.\n",
    "5. The interpreter will execute the line of code and then return the result."
   ]
  },
  {
   "cell_type": "markdown",
   "metadata": {
    "slideshow": {
     "slide_type": "subslide"
    }
   },
   "source": [
    "# Continued\n",
    "![Launching Terminal](img/L1_JupyterLab_Terminal1.png)"
   ]
  },
  {
   "cell_type": "markdown",
   "metadata": {
    "slideshow": {
     "slide_type": "subslide"
    }
   },
   "source": [
    "# Continued\n",
    "![Terminal Screenshot](img/L1_JupyterLab_Terminal2.png)"
   ]
  },
  {
   "cell_type": "markdown",
   "metadata": {
    "slideshow": {
     "slide_type": "slide"
    }
   },
   "source": [
    "# JupyterLab IPython Console\n",
    "1. In JupyterLab's \"Launcher\" panel, select \"Python 3\" in the \"Console\" menu. \n",
    "2. An IPython Console will launch in a new tab.\n",
    "3. Type the following into the text box at the bottom of the console.\n",
    "    ```python\n",
    "    print('Hello')\n",
    "    ``` \n",
    "4. Hit `Control+Enter` (or `Control+Return`) to execute the code.\n",
    "5. The console will display the code and the result."
   ]
  },
  {
   "cell_type": "markdown",
   "metadata": {
    "slideshow": {
     "slide_type": "subslide"
    }
   },
   "source": [
    "# Continued\n",
    "![Launching Console](img/L1_JupyterLab_Console1.png)"
   ]
  },
  {
   "cell_type": "markdown",
   "metadata": {
    "slideshow": {
     "slide_type": "subslide"
    }
   },
   "source": [
    "# Continued\n",
    "![Console Screenshot](img/L1_JupyterLab_Console2.png)"
   ]
  },
  {
   "cell_type": "markdown",
   "metadata": {
    "slideshow": {
     "slide_type": "slide"
    }
   },
   "source": [
    "# JupyterLab Notebook\n",
    "\n",
    "1. In JupyterLab's \"Launcher\" panel, select \"Python 3\" in the \"Notebook\" menu. \n",
    "2. A blank Notebook will appear in a new tab.\n",
    "3. Type the following into the blank code cell.\n",
    "    ```python\n",
    "    print('Hello')\n",
    "    ``` \n",
    "4. Hit the play button (triangle icon) to execute the code cell.\n",
    "5. The result will display immediately below the cell."
   ]
  },
  {
   "cell_type": "markdown",
   "metadata": {
    "slideshow": {
     "slide_type": "subslide"
    }
   },
   "source": [
    "# Continued\n",
    "![Launching Notebook](img/L1_JupyterLab_Notebook1.png)"
   ]
  },
  {
   "cell_type": "markdown",
   "metadata": {
    "slideshow": {
     "slide_type": "subslide"
    }
   },
   "source": [
    "# Continued\n",
    "![Launching Notebook](img/L1_JupyterLab_Notebook2.png)"
   ]
  },
  {
   "cell_type": "code",
   "execution_count": 4,
   "metadata": {
    "slideshow": {
     "slide_type": "fragment"
    }
   },
   "outputs": [
    {
     "name": "stdout",
     "output_type": "stream",
     "text": [
      "Hello\n"
     ]
    }
   ],
   "source": [
    "print('Hello')"
   ]
  },
  {
   "cell_type": "markdown",
   "metadata": {
    "slideshow": {
     "slide_type": "slide"
    }
   },
   "source": [
    "# What about Typos?\n",
    "When using the interpreter interactively, we are likely to have typos and other errors.  \n",
    "For example ...\n",
    "The example from 2006 used a Python 2.4 statement\n",
    "```python\n",
    "print ‘I love this course!’\n",
    "```\n",
    "That doesn't work in Python 3!  \n",
    "**If the interpreter cannot execute the statement, then it returns an error message.  \n",
    "Please read these carefully before asking for help.**"
   ]
  },
  {
   "cell_type": "markdown",
   "metadata": {
    "slideshow": {
     "slide_type": "slide"
    }
   },
   "source": [
    "# Debugging / Error Types\n",
    "\n",
    "Listed in increasing difficulty ...\n",
    "- **Syntax errors** in the source code are caught by the interpreter or compiler before trying to run it\n",
    "  - Fix: Look for broken Python statements or typos\n",
    "- **Runtime errors** happen when the computer tries to run a line of code\n",
    "  - Fix: Read the error message, which explains what caused the interpreter to break. Often you'll find that some assumption you've made about a resource being available or code being executed in advance are faulty. \n",
    "- Programs with **Semantic errors** (bad logic) run fine but do not produce the expected results\n",
    "  - Fix: Study the source code for **incorrect logic**. Since your are the source of the logic, the computer has no way to tell that it is faulty, leaving you on your own to locate the bug. "
   ]
  },
  {
   "cell_type": "markdown",
   "metadata": {
    "slideshow": {
     "slide_type": "slide"
    }
   },
   "source": [
    "# Code Comments\n",
    "```python \n",
    "# Compute the W2H ratio for one person\n",
    "```\n",
    "- Python statements are meant for the computer to execute\n",
    "- Sometimes we want to include explanatory comments for programmers to read\n",
    "  - Comments can be *especially* helpful with semantic errors\n",
    "- Comments always start with the # character\n",
    "  - Anything on a line after the # is ignored by the interpreter\n",
    "- **Comments are considered part of your code!**\n",
    "  - Leaving them out is considered *extremely* unprofessional (and in most of the companies you've heard of will result in a reprimand or worse). "
   ]
  },
  {
   "cell_type": "markdown",
   "metadata": {
    "slideshow": {
     "slide_type": "slide"
    }
   },
   "source": [
    "# Syntax Highlighting\n",
    "- Python is very strict about what kinds of statements it can execute\n",
    "- Every kind of statement has its own **syntax**, a pattern composed of keywords, expressions, and punctuation characters.\n",
    "  - The syntax of a print statement (in BNF grammar notation) is \n",
    "```python\n",
    "  print(<string expression>)\n",
    "```\n",
    "- **Keywords** like `print`, `if`, `or`, and `for` are **reserved** and cannot be used for variable names\n",
    "  - To help you identify reserved words in your code, JupyterLab will highlight them in green.\n",
    "- Pay attention to the color highlighting to see how Python parses out your code. \n",
    "  - Sometimes color can clue you into typos and other bugs. \n",
    "- Question: Why are ```<``` and ```>``` in purple in the code snippet above?"
   ]
  },
  {
   "cell_type": "markdown",
   "metadata": {
    "slideshow": {
     "slide_type": "slide"
    }
   },
   "source": [
    "# The Python Language \n",
    "\n",
    "## Statements, Expressions, Variables, Values, Functions, and Operators"
   ]
  },
  {
   "cell_type": "markdown",
   "metadata": {
    "slideshow": {
     "slide_type": "slide"
    }
   },
   "source": [
    "# Values and Data Types\n",
    "Every piece of data in Python has a **value** and a **data type**:"
   ]
  },
  {
   "cell_type": "markdown",
   "metadata": {
    "slideshow": {
     "slide_type": "fragment"
    }
   },
   "source": [
    "- 5 is a value with the data type int (integer)"
   ]
  },
  {
   "cell_type": "markdown",
   "metadata": {
    "slideshow": {
     "slide_type": "fragment"
    }
   },
   "source": [
    "- 5.0 is a value of type float (floating point number)"
   ]
  },
  {
   "cell_type": "markdown",
   "metadata": {
    "slideshow": {
     "slide_type": "fragment"
    }
   },
   "source": [
    "- ‘Hello’ is a value of type str (string of characters)"
   ]
  },
  {
   "cell_type": "markdown",
   "metadata": {
    "slideshow": {
     "slide_type": "fragment"
    }
   },
   "source": [
    "- [‘IS505’,2017] is a list (of values)"
   ]
  },
  {
   "cell_type": "markdown",
   "metadata": {
    "slideshow": {
     "slide_type": "slide"
    }
   },
   "source": [
    "# Try It Out!\n",
    "1. In JupyterLab open up an iPython Console. (Like we did a few minutes ago!)  \n",
    "2. Type the following Python Statements. (Reminder: Control+Enter)\n",
    "  - ```type(5)```\n",
    "  - ```type(5.0)```\n",
    "  - ```type('5.0')```\n",
    "  - ```type(\"Hello\")```\n",
    "  - ```type(['IS505',2017])```\n",
    "3. For each you will get something like `<class ... >` that tells you the data type."
   ]
  },
  {
   "cell_type": "markdown",
   "metadata": {
    "slideshow": {
     "slide_type": "fragment"
    }
   },
   "source": [
    "Notice anything about ```'5.0'```? Explain. "
   ]
  },
  {
   "cell_type": "markdown",
   "metadata": {
    "slideshow": {
     "slide_type": "slide"
    }
   },
   "source": [
    "# Data Types Matter (a lot)\n",
    "The data types of our values determine what kinds of things we can do with them.\n",
    "Explain each of the following results:\n",
    "- `'A'+'B'`  \t→ `'AB'`\n",
    "- `1+2` \t\t\t→ `3`\n",
    "- `1+2.0` \t\t→ `3.0`\n",
    "- `1+'A'` \t\t→ error message"
   ]
  },
  {
   "cell_type": "markdown",
   "metadata": {
    "slideshow": {
     "slide_type": "subslide"
    }
   },
   "source": [
    "Answers\n",
    "- `'A'+'B'` combines the two `str` (text) to produce a new `str`.\n",
    "- `1+2` sums the two `int`s (integers) to produce a new `int`.\n",
    "- `1+2.0` sums an `int` with a `float` (decimal) to get a `float`.\n",
    "- `1+'A'` produces a *type incompatibility error*. Python does not know how to convert `'A'` to a number."
   ]
  },
  {
   "cell_type": "markdown",
   "metadata": {
    "slideshow": {
     "slide_type": "slide"
    }
   },
   "source": [
    "# Type Conversion\n",
    "We can translate data from one data type to another using type conversion functions.\n",
    "- `float(5)` \t\t→ `5.0`\n",
    "- `int(5.0)` \t\t→ `5`\n",
    "- `str(5)` \t\t→ `‘5’`\n",
    "- `int(‘5.0’)` \t→ syntax error! Why?  \n",
    "\n",
    "We can do more complex conversions like this ...  \n",
    "- `int(float(‘5.0’))` → `5`"
   ]
  },
  {
   "cell_type": "markdown",
   "metadata": {
    "slideshow": {
     "slide_type": "slide"
    }
   },
   "source": [
    "# Variables\n",
    "- A variable is just a place that stores a value that we can recall and change later if needed.  \n",
    "- We can set the value of a variable using the assignment operator (=)  \n",
    "`<variable name> = <value>`\n",
    "- Each variable ...\n",
    "  - Can store one data value at a time\n",
    "  - Has a unique name (within scope) so you can access the data\n",
    "  - Can be modified (i.e., vary) through assignment"
   ]
  },
  {
   "cell_type": "markdown",
   "metadata": {
    "slideshow": {
     "slide_type": "slide"
    }
   },
   "source": [
    "# Try It Out!\n",
    "Execute the following script in the IPython Console. \n",
    "\n",
    "```python\n",
    "first_name = \"Bob\"\n",
    "last_name = \"Gibson\"\n",
    "print(\"Hi \"+first_name+\" \"+last_name)\n",
    "first_name = \"Dan\"\n",
    "print(\"Hi \"+first_name+\" \"+last_name)\n",
    "```"
   ]
  },
  {
   "cell_type": "code",
   "execution_count": 4,
   "metadata": {
    "slideshow": {
     "slide_type": "subslide"
    }
   },
   "outputs": [
    {
     "name": "stdout",
     "output_type": "stream",
     "text": [
      "Hi Bob Gibson\n",
      "Hi Dan Gibson\n"
     ]
    }
   ],
   "source": [
    "first_name = \"Bob\"\n",
    "last_name = \"Gibson\"\n",
    "print(\"Hi \"+first_name+\" \"+last_name)\n",
    "first_name = \"Dan\"\n",
    "print(\"Hi \"+first_name+\" \"+last_name)"
   ]
  },
  {
   "cell_type": "markdown",
   "metadata": {
    "slideshow": {
     "slide_type": "slide"
    }
   },
   "source": [
    "# Variable Names\n",
    "- Should be easy to understand and type\n",
    "  - Make the names describe what is being stored and how it is being used\n",
    "  - `last_name` is much better than names like `X` or `l` or even `ln`\n",
    "- Follow the [Python style guide](https://www.python.org/dev/peps/pep-0008/#naming-conventions)\n",
    "  - Always lower case and use underscores to separate words (e.g., `last_name`)\n",
    "  - Don’t go too crazy on the length (1-15 chars)\n",
    "  - And do not use keywords for names\n"
   ]
  },
  {
   "cell_type": "markdown",
   "metadata": {
    "slideshow": {
     "slide_type": "slide"
    }
   },
   "source": [
    "# Statements and Expressions\n",
    "A **statement** is a Python instruction (line of code) that asks Python to do something.\n",
    "  - `X=2` is an assignment statement\n",
    "\n",
    "An **expression** is a combination of values, variables, operators, and functions that can be **evaluated** to a value.\n",
    "  - Expressions **always** evaluate to a value\n",
    "  - `2+2` and `type(2+2)` are expressions"
   ]
  },
  {
   "cell_type": "markdown",
   "metadata": {
    "slideshow": {
     "slide_type": "slide"
    }
   },
   "source": [
    "# Functions\n",
    "- A **function** is a named, reusable sequence of **statements**\n",
    "  - Like how a variable is a place to store a value for later\n",
    "  - to run a function, just **call** it"
   ]
  },
  {
   "cell_type": "markdown",
   "metadata": {
    "slideshow": {
     "slide_type": "fragment"
    }
   },
   "source": [
    "- Functions can **return** values, **just like expressions**\n",
    "  - `str()` is a function that returns a string"
   ]
  },
  {
   "cell_type": "markdown",
   "metadata": {
    "slideshow": {
     "slide_type": "fragment"
    }
   },
   "source": [
    "- Function calls **always** include `()` (parentheses) after the function name\n",
    "  - Any values listed inside the `()` are **input arguments**\n",
    "  - `str(1.0 + 3)` calls `str()` with the expression `1.0+3` as the argument and returns the equivalent string value"
   ]
  },
  {
   "cell_type": "markdown",
   "metadata": {
    "slideshow": {
     "slide_type": "slide"
    }
   },
   "source": [
    "# Composite Function Calls\n",
    "Function arguments can call other functions if needed.  \n",
    "Remember this?\n",
    "```python \n",
    "int(float('5.0'))\n",
    "```\n",
    "The `float('5.0')` function call inside the parentheses is evaluated before passing the value into the `int()` function."
   ]
  },
  {
   "cell_type": "markdown",
   "metadata": {
    "slideshow": {
     "slide_type": "slide"
    }
   },
   "source": [
    "# Operators and Operands\n",
    "- An operator is a computation (‘verb’) that can be used in an expression to calculate a value\n",
    "  - `+`, `-`,`*`, and `/` are **arithmetic** operators\n",
    "  - `()` is a **grouping** operator\n",
    "- Operators are like functions that have special built-in ‘shortcut’ syntax:\n",
    "  - `2+3` is equivalent to function call like `add(2,3)`\n",
    "  - The values being operated on (`2` and `3` above) are called **operands**"
   ]
  },
  {
   "cell_type": "markdown",
   "metadata": {
    "slideshow": {
     "slide_type": "slide"
    }
   },
   "source": [
    "# Order of Operations: PEMDAS\n",
    "Math expressions are evaluated just like in algebra:\n",
    "1. Parentheses\n",
    "2. Exponents\n",
    "3. Multiplication\n",
    "4. Division\n",
    "5. Addition\n",
    "6. Subtraction"
   ]
  },
  {
   "cell_type": "markdown",
   "metadata": {
    "slideshow": {
     "slide_type": "fragment"
    }
   },
   "source": [
    "Trick: When in doubt use parentheses to force the right order."
   ]
  },
  {
   "cell_type": "markdown",
   "metadata": {
    "slideshow": {
     "slide_type": "slide"
    }
   },
   "source": [
    "# The Python Beginners Reference Cheat Sheet\n",
    "Suggestion: Download the Python 3 Beginner’s Reference Cheat Sheet from [sixthresearcher.com](http://sixthresearcher.com/wp-content/uploads/2016/12/Python3_reference_cheat_sheet.pdf)\n",
    "![Python Cheat Sheet Screenshot](img/L1_CheatSheet.png)"
   ]
  },
  {
   "cell_type": "markdown",
   "metadata": {
    "slideshow": {
     "slide_type": "slide"
    }
   },
   "source": [
    "# Classwork (Start here in class)\n",
    "- Complete chapters 1 and 2 of the RSI *How to Think Like a Computer Scientist* e-book.\n",
    "  - Do not play the videos without headphones; reading and typing is enough\n",
    "- If time permits, start in on your homework. \n",
    "- Ask questions when you need help. Use this time to get help from the professor!\n"
   ]
  },
  {
   "cell_type": "markdown",
   "metadata": {
    "slideshow": {
     "slide_type": "slide"
    }
   },
   "source": [
    "# Homework (Do at home)\n",
    "The following is due before class next week:\n",
    "  - Any remianing classwork from tonight\n",
    "  - RSI Chapters 3 and 4\n",
    "  - Data Camp “Python Basics” and Git \"Basic Workflows” assignments \n",
    "\n",
    "Note: All work on Data Camp is being monitored.  \n",
    "Please email chuntley@fairfield.edu if you have any problems or questions."
   ]
  },
  {
   "cell_type": "markdown",
   "metadata": {
    "slideshow": {
     "slide_type": "slide"
    }
   },
   "source": [
    "![DSB Logo](img/Dolan.jpg)\n",
    "# Preliminaries\n",
    "\n",
    "## RSI Chapters 1 and 2\n",
    "### Concepts you should know before your first program"
   ]
  }
 ],
 "metadata": {
  "kernelspec": {
   "display_name": "Python 3",
   "language": "python",
   "name": "python3"
  },
  "language_info": {
   "codemirror_mode": {
    "name": "ipython",
    "version": 3
   },
   "file_extension": ".py",
   "mimetype": "text/x-python",
   "name": "python",
   "nbconvert_exporter": "python",
   "pygments_lexer": "ipython3",
   "version": "3.6.6"
  }
 },
 "nbformat": 4,
 "nbformat_minor": 2
}
